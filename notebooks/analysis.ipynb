{
 "cells": [
  {
   "cell_type": "markdown",
   "metadata": {},
   "source": [
    "![title](../static/wcar.png)\n",
    "#  Oocyst Wall Proteome\n",
    "\n",
    "    Wellcome Centre for Anti-Infectives Research\n",
    "    School of Life Sciences, University of Dundee\n",
    "\n",
    "This notebook perform the data analysis and plots Fig X of the paper"
   ]
  },
  {
   "cell_type": "code",
   "execution_count": 1,
   "metadata": {},
   "outputs": [],
   "source": [
    "import pathlib\n",
    "#pathlib.Path().absolute()"
   ]
  },
  {
   "cell_type": "code",
   "execution_count": 2,
   "metadata": {},
   "outputs": [],
   "source": [
    "#reload library if modified\n",
    "%load_ext autoreload\n",
    "%autoreload 2"
   ]
  },
  {
   "cell_type": "code",
   "execution_count": 3,
   "metadata": {},
   "outputs": [],
   "source": [
    "import os\n",
    "import sys\n",
    "import utilities as PTUT\n",
    "import pandas as pd\n",
    "import seaborn as sns\n",
    "import ProtRank\n",
    "import matplotlib.pyplot as plt\n",
    "import numpy as np"
   ]
  },
  {
   "cell_type": "markdown",
   "metadata": {},
   "source": [
    "## Load and clean dataset\n",
    "\n",
    "\n",
    "We analise protein/protein groups with a minimum of two unique peptide identified and andromada score > 5."
   ]
  },
  {
   "cell_type": "code",
   "execution_count": 4,
   "metadata": {},
   "outputs": [
    {
     "name": "stdout",
     "output_type": "stream",
     "text": [
      "starting from: (2303, 139)\n",
      "removed  111 Protein Groups by: Only identified by site\n",
      "tot  111  entries removed\n",
      "---------------\n",
      "removed  21 Protein Groups by: Reverse\n",
      "tot  132  entries removed\n",
      "---------------\n",
      "removed  68 Protein Groups by: Potential contaminant\n",
      "tot  200  entries removed\n",
      "---------------\n",
      "removed  287 Protein Groups by: Score\n",
      "tot  487  entries removed\n",
      "---------------\n",
      "removed  36 Protein Groups by: Peptide counts (unique)\n",
      "tot  523  entries removed\n",
      "---------------\n",
      "(1780, 142)\n"
     ]
    },
    {
     "data": {
      "text/html": [
       "<div>\n",
       "<style scoped>\n",
       "    .dataframe tbody tr th:only-of-type {\n",
       "        vertical-align: middle;\n",
       "    }\n",
       "\n",
       "    .dataframe tbody tr th {\n",
       "        vertical-align: top;\n",
       "    }\n",
       "\n",
       "    .dataframe thead th {\n",
       "        text-align: right;\n",
       "    }\n",
       "</style>\n",
       "<table border=\"1\" class=\"dataframe\">\n",
       "  <thead>\n",
       "    <tr style=\"text-align: right;\">\n",
       "      <th></th>\n",
       "      <th>Protein IDs</th>\n",
       "      <th>Majority protein IDs</th>\n",
       "      <th>Peptide counts (all)</th>\n",
       "      <th>Peptide counts (razor+unique)</th>\n",
       "      <th>Peptide counts (unique)</th>\n",
       "      <th>Fasta headers</th>\n",
       "      <th>Number of proteins</th>\n",
       "      <th>Peptides</th>\n",
       "      <th>Razor + unique peptides</th>\n",
       "      <th>Unique peptides</th>\n",
       "      <th>...</th>\n",
       "      <th>Mod. peptide IDs</th>\n",
       "      <th>Evidence IDs</th>\n",
       "      <th>MS/MS IDs</th>\n",
       "      <th>Best MS/MS</th>\n",
       "      <th>Oxidation (M) site IDs</th>\n",
       "      <th>Oxidation (M) site positions</th>\n",
       "      <th>Taxonomy IDs</th>\n",
       "      <th>unique_int</th>\n",
       "      <th>Gene_id</th>\n",
       "      <th>desc</th>\n",
       "    </tr>\n",
       "  </thead>\n",
       "  <tbody>\n",
       "    <tr>\n",
       "      <th>0</th>\n",
       "      <td>A0A088QMV3;A0A3Q1MPS1</td>\n",
       "      <td>A0A088QMV3;A0A3Q1MPS1</td>\n",
       "      <td>5;3</td>\n",
       "      <td>5;3</td>\n",
       "      <td>5;3</td>\n",
       "      <td>tr|A0A088QMV3|A0A088QMV3_BOVIN 20beta-hydroxys...</td>\n",
       "      <td>2</td>\n",
       "      <td>5</td>\n",
       "      <td>5</td>\n",
       "      <td>5</td>\n",
       "      <td>...</td>\n",
       "      <td>9168;9471;9487;12550;24872</td>\n",
       "      <td>181148;181149;188168;188510;188511;188512;1885...</td>\n",
       "      <td>172073;172074;178611;178915;178916;178917;1789...</td>\n",
       "      <td>172074;178611;178918;234506;452006</td>\n",
       "      <td>0</td>\n",
       "      <td>178</td>\n",
       "      <td>-1;-1</td>\n",
       "      <td>5</td>\n",
       "      <td>A0A088QMV3</td>\n",
       "      <td>none</td>\n",
       "    </tr>\n",
       "    <tr>\n",
       "      <th>4</th>\n",
       "      <td>A0A140T871</td>\n",
       "      <td>A0A140T871</td>\n",
       "      <td>6</td>\n",
       "      <td>6</td>\n",
       "      <td>6</td>\n",
       "      <td>tr|A0A140T871|A0A140T871_BOVIN Glutamate dehyd...</td>\n",
       "      <td>1</td>\n",
       "      <td>6</td>\n",
       "      <td>6</td>\n",
       "      <td>6</td>\n",
       "      <td>...</td>\n",
       "      <td>892;8863;28915;33702;34844;35175</td>\n",
       "      <td>18708;18709;18710;18711;18712;174759;174760;55...</td>\n",
       "      <td>17124;17125;17126;165746;165747;524790;524791;...</td>\n",
       "      <td>17125;165746;524790;625967;644898;650486</td>\n",
       "      <td>1</td>\n",
       "      <td>229</td>\n",
       "      <td>-1</td>\n",
       "      <td>6</td>\n",
       "      <td>A0A140T871</td>\n",
       "      <td>none</td>\n",
       "    </tr>\n",
       "    <tr>\n",
       "      <th>6</th>\n",
       "      <td>A0A3Q1LKF4;A0A140T896</td>\n",
       "      <td>A0A3Q1LKF4;A0A140T896</td>\n",
       "      <td>3;3</td>\n",
       "      <td>3;3</td>\n",
       "      <td>3;3</td>\n",
       "      <td>tr|A0A3Q1LKF4|A0A3Q1LKF4_BOVIN Serine hydroxym...</td>\n",
       "      <td>2</td>\n",
       "      <td>3</td>\n",
       "      <td>3</td>\n",
       "      <td>3</td>\n",
       "      <td>...</td>\n",
       "      <td>580;884;17061</td>\n",
       "      <td>11727;11728;11729;11730;11731;11732;11733;1864...</td>\n",
       "      <td>10727;10728;10729;10730;10731;17066;17067;3103...</td>\n",
       "      <td>10728;17066;310397</td>\n",
       "      <td>3;4</td>\n",
       "      <td>256;333</td>\n",
       "      <td>-1;-1</td>\n",
       "      <td>3</td>\n",
       "      <td>A0A3Q1LKF4</td>\n",
       "      <td>none</td>\n",
       "    </tr>\n",
       "    <tr>\n",
       "      <th>8</th>\n",
       "      <td>A0A140T8A5</td>\n",
       "      <td>A0A140T8A5</td>\n",
       "      <td>7</td>\n",
       "      <td>7</td>\n",
       "      <td>7</td>\n",
       "      <td>tr|A0A140T8A5|A0A140T8A5_BOVIN Isocitrate dehy...</td>\n",
       "      <td>1</td>\n",
       "      <td>7</td>\n",
       "      <td>7</td>\n",
       "      <td>7</td>\n",
       "      <td>...</td>\n",
       "      <td>1700;9814;10391;16930;19546;21729;30904</td>\n",
       "      <td>35236;35237;35238;194732;194733;206986;206987;...</td>\n",
       "      <td>32523;184686;184687;196184;196185;308189;35591...</td>\n",
       "      <td>32523;184687;196185;308189;355910;394584;565986</td>\n",
       "      <td>8;9</td>\n",
       "      <td>254;259</td>\n",
       "      <td>-1</td>\n",
       "      <td>7</td>\n",
       "      <td>A0A140T8A5</td>\n",
       "      <td>none</td>\n",
       "    </tr>\n",
       "    <tr>\n",
       "      <th>10</th>\n",
       "      <td>A0A140T8B6;A0A3Q1LVK7;A0A3Q1LRG4;A0A3Q1LV22</td>\n",
       "      <td>A0A140T8B6</td>\n",
       "      <td>12;3;3;3</td>\n",
       "      <td>3;0;0;0</td>\n",
       "      <td>2;0;0;0</td>\n",
       "      <td>tr|A0A140T8B6|A0A140T8B6_BOVIN Keratin, type I...</td>\n",
       "      <td>4</td>\n",
       "      <td>12</td>\n",
       "      <td>3</td>\n",
       "      <td>2</td>\n",
       "      <td>...</td>\n",
       "      <td>1518;2492;5799;6356;6357;9460;15660;15877;1619...</td>\n",
       "      <td>31901;31902;31903;31904;31905;31906;31907;3190...</td>\n",
       "      <td>29449;29450;29451;29452;29453;29454;29455;2945...</td>\n",
       "      <td>29460;50871;110655;117332;178500;286162;291314...</td>\n",
       "      <td>12;13</td>\n",
       "      <td>101;355</td>\n",
       "      <td>-1;-1;-1;-1</td>\n",
       "      <td>2</td>\n",
       "      <td>A0A140T8B6</td>\n",
       "      <td>none</td>\n",
       "    </tr>\n",
       "  </tbody>\n",
       "</table>\n",
       "<p>5 rows × 142 columns</p>\n",
       "</div>"
      ],
      "text/plain": [
       "                                    Protein IDs   Majority protein IDs Peptide counts (all) Peptide counts (razor+unique) Peptide counts (unique)  \\\n",
       "0                         A0A088QMV3;A0A3Q1MPS1  A0A088QMV3;A0A3Q1MPS1                  5;3                           5;3                     5;3   \n",
       "4                                    A0A140T871             A0A140T871                    6                             6                       6   \n",
       "6                         A0A3Q1LKF4;A0A140T896  A0A3Q1LKF4;A0A140T896                  3;3                           3;3                     3;3   \n",
       "8                                    A0A140T8A5             A0A140T8A5                    7                             7                       7   \n",
       "10  A0A140T8B6;A0A3Q1LVK7;A0A3Q1LRG4;A0A3Q1LV22             A0A140T8B6             12;3;3;3                       3;0;0;0                 2;0;0;0   \n",
       "\n",
       "                                        Fasta headers  Number of proteins  Peptides  Razor + unique peptides  Unique peptides  ...  \\\n",
       "0   tr|A0A088QMV3|A0A088QMV3_BOVIN 20beta-hydroxys...                   2         5                        5                5  ...   \n",
       "4   tr|A0A140T871|A0A140T871_BOVIN Glutamate dehyd...                   1         6                        6                6  ...   \n",
       "6   tr|A0A3Q1LKF4|A0A3Q1LKF4_BOVIN Serine hydroxym...                   2         3                        3                3  ...   \n",
       "8   tr|A0A140T8A5|A0A140T8A5_BOVIN Isocitrate dehy...                   1         7                        7                7  ...   \n",
       "10  tr|A0A140T8B6|A0A140T8B6_BOVIN Keratin, type I...                   4        12                        3                2  ...   \n",
       "\n",
       "                                     Mod. peptide IDs                                       Evidence IDs                                          MS/MS IDs  \\\n",
       "0                          9168;9471;9487;12550;24872  181148;181149;188168;188510;188511;188512;1885...  172073;172074;178611;178915;178916;178917;1789...   \n",
       "4                    892;8863;28915;33702;34844;35175  18708;18709;18710;18711;18712;174759;174760;55...  17124;17125;17126;165746;165747;524790;524791;...   \n",
       "6                                       580;884;17061  11727;11728;11729;11730;11731;11732;11733;1864...  10727;10728;10729;10730;10731;17066;17067;3103...   \n",
       "8             1700;9814;10391;16930;19546;21729;30904  35236;35237;35238;194732;194733;206986;206987;...  32523;184686;184687;196184;196185;308189;35591...   \n",
       "10  1518;2492;5799;6356;6357;9460;15660;15877;1619...  31901;31902;31903;31904;31905;31906;31907;3190...  29449;29450;29451;29452;29453;29454;29455;2945...   \n",
       "\n",
       "                                           Best MS/MS  Oxidation (M) site IDs  Oxidation (M) site positions  Taxonomy IDs  unique_int     Gene_id  desc  \n",
       "0                  172074;178611;178918;234506;452006                       0                           178         -1;-1           5  A0A088QMV3  none  \n",
       "4            17125;165746;524790;625967;644898;650486                       1                           229            -1           6  A0A140T871  none  \n",
       "6                                  10728;17066;310397                     3;4                       256;333         -1;-1           3  A0A3Q1LKF4  none  \n",
       "8     32523;184687;196185;308189;355910;394584;565986                     8;9                       254;259            -1           7  A0A140T8A5  none  \n",
       "10  29460;50871;110655;117332;178500;286162;291314...                   12;13                       101;355   -1;-1;-1;-1           2  A0A140T8B6  none  \n",
       "\n",
       "[5 rows x 142 columns]"
      ]
     },
     "execution_count": 4,
     "metadata": {},
     "output_type": "execute_result"
    }
   ],
   "source": [
    "df = pd.read_csv('../in_data/proteinGroups.txt',sep='\\t')\n",
    "df = PTUT.clean_df(df, score=5, unique_pep_threshold=2)\n",
    "df = PTUT.mod_df(df)\n",
    "print(df.shape)\n",
    "df.head()"
   ]
  },
  {
   "cell_type": "code",
   "execution_count": 5,
   "metadata": {},
   "outputs": [
    {
     "name": "stdout",
     "output_type": "stream",
     "text": [
      "(1780, 142)\n",
      "Removing protein with high homology to Cow proteins\n",
      "(1661, 142)\n"
     ]
    }
   ],
   "source": [
    "#remove cow proteins\n",
    "print(df.shape)\n",
    "print('Removing protein with high homology to Cow proteins')\n",
    "df = df[[False if 'tr|' in n else True for n in df['Fasta headers']]]\n",
    "print(df.shape)"
   ]
  },
  {
   "cell_type": "code",
   "execution_count": 6,
   "metadata": {},
   "outputs": [],
   "source": [
    "#creata a protein desc dictionary\n",
    "desc_dict = dict(zip(df['Gene_id'], df['desc']))"
   ]
  },
  {
   "cell_type": "markdown",
   "metadata": {},
   "source": [
    "## Extract Intensity Values\n",
    "Let's have a look at the intensity values"
   ]
  },
  {
   "cell_type": "code",
   "execution_count": 7,
   "metadata": {},
   "outputs": [],
   "source": [
    "#color palette\n",
    "palette=['b','b','b','r','r','r']\n",
    "palette_g = ['r','b']\n",
    "color_dictionary = { 'b':'SPORO','r':'WALL',}"
   ]
  },
  {
   "cell_type": "code",
   "execution_count": 8,
   "metadata": {},
   "outputs": [],
   "source": [
    "#list(df.columns)"
   ]
  },
  {
   "cell_type": "code",
   "execution_count": 9,
   "metadata": {},
   "outputs": [
    {
     "name": "stdout",
     "output_type": "stream",
     "text": [
      "(1661, 6)\n",
      "(1659, 6)\n"
     ]
    }
   ],
   "source": [
    "#tag ='Intensity'\n",
    "tag ='iBAQ'\n",
    "#tag ='LFQ intensity'\n",
    "cols=[' SPORO_1',' SPORO_2',' SPORO_3', ' WALL_1', ' WALL_2',' WALL_3']\n",
    "cols = [tag+n for n in cols]\n",
    "selection = df[cols]\n",
    "selection.columns = [n.split(' ')[-1] for n in cols]\n",
    "print(selection.shape)\n",
    "selection = selection[(selection.T != 0).any()]\n",
    "print(selection.shape)\n",
    "\n",
    "#selection.rename({'PULL':'POOL'},axis=1,inplace=True)\n",
    "#selection.describe()"
   ]
  },
  {
   "cell_type": "code",
   "execution_count": 10,
   "metadata": {},
   "outputs": [
    {
     "data": {
      "image/png": "[encoded data removed]",
      "text/plain": [
       "<Figure size 432x720 with 2 Axes>"
      ]
     },
     "metadata": {},
     "output_type": "display_data"
    }
   ],
   "source": [
    "plt.style.use('ggplot')\n",
    "fig,axes=plt.subplots(ncols=1,nrows=2,figsize=(6,10))\n",
    "\n",
    "np.log1p(selection).plot(kind='kde', color=palette, alpha=0.5,ax=axes[0])\n",
    "axes[0].legend(loc='center left', bbox_to_anchor=(0.7, 0.5))\n",
    "axes[0].set_title('Value Distribution')\n",
    "axes[0].set_xlabel('Log10 Intensity')\n",
    "\n",
    "sns.boxplot(data =np.log10(selection.replace(0,np.nan)),\n",
    "            showfliers=False,palette=palette,ax=axes[1])\n",
    "plt.title('Value Distribution')\n",
    "plt.xlabel('Log10 Intensity')\n",
    "plt.savefig(os.path.join('../out_data/value_distribution.png'))\n",
    "plt.show()"
   ]
  },
  {
   "cell_type": "markdown",
   "metadata": {},
   "source": [
    "## Missing Data Analysis\n"
   ]
  },
  {
   "cell_type": "code",
   "execution_count": 11,
   "metadata": {},
   "outputs": [
    {
     "data": {
      "image/png": "[encoded data removed]",
      "text/plain": [
       "<Figure size 432x432 with 3 Axes>"
      ]
     },
     "metadata": {},
     "output_type": "display_data"
    }
   ],
   "source": [
    "import missingno as msno\n",
    "import numpy as np\n",
    "import matplotlib.pyplot as plt\n",
    "#visualization of missing data\n",
    "ax=msno.bar(selection.replace(0,np.nan),figsize=(6, 6))\n",
    "plt.title('Missing Data Analysis',size=12)\n",
    "ax.set_ylabel('Fraction of data points',size=12)\n",
    "plt.tight_layout()\n",
    "plt.savefig('../out_data/missing.png')\n",
    "plt.show()"
   ]
  },
  {
   "cell_type": "code",
   "execution_count": 12,
   "metadata": {},
   "outputs": [
    {
     "data": {
      "image/png": "[encoded data removed]",
      "text/plain": [
       "<Figure size 432x432 with 2 Axes>"
      ]
     },
     "metadata": {},
     "output_type": "display_data"
    }
   ],
   "source": [
    "#print(data.shape)\n",
    "msno.matrix(selection.replace(0,np.nan), figsize=(6, 6))\n",
    "plt.show()"
   ]
  },
  {
   "cell_type": "markdown",
   "metadata": {},
   "source": [
    "## PCA analysis"
   ]
  },
  {
   "cell_type": "code",
   "execution_count": 13,
   "metadata": {},
   "outputs": [
    {
     "name": "stdout",
     "output_type": "stream",
     "text": [
      "[0.57716503 0.20690685]\n",
      "{'b': 'SPORO', 'r': 'WALL'}\n"
     ]
    },
    {
     "data": {
      "image/png": "[encoded data removed]",
      "text/plain": [
       "<Figure size 432x432 with 1 Axes>"
      ]
     },
     "metadata": {},
     "output_type": "display_data"
    }
   ],
   "source": [
    "plt.style.use('ggplot')\n",
    "fig,ax=plt.subplots(figsize = (6,6))\n",
    "PTUT.make_pca(np.log10(selection.replace(0,np.nan).dropna()),\n",
    "              palette=palette,ax=ax,do_adjust_text=True,top=200,\n",
    "             color_dictionary =color_dictionary)\n",
    "plt.show()"
   ]
  },
  {
   "cell_type": "markdown",
   "metadata": {},
   "source": [
    "## Proteins Group Identified only in one conditions"
   ]
  },
  {
   "cell_type": "code",
   "execution_count": 14,
   "metadata": {},
   "outputs": [
    {
     "name": "stdout",
     "output_type": "stream",
     "text": [
      " Found only in Wall: 26 \n",
      " Found only in Sporo: 151\n"
     ]
    }
   ],
   "source": [
    "sporo_nan_1 = selection[['SPORO_1','SPORO_2','SPORO_3']].replace(0,np.nan).isna().sum(axis=1)\n",
    "wall_nan_1  = selection[['WALL_1','WALL_2','WALL_3']].replace(0,np.nan).isna().sum(axis=1)\n",
    "only_wall_1 = selection[(sporo_nan_1==3) & (wall_nan_1<3)]\n",
    "only_sporo_1 = selection[(sporo_nan_1<3) & (wall_nan_1==3)]\n",
    "print(' Found only in Wall:',only_wall_1.shape[0],'\\n',\n",
    "      'Found only in Sporo:',only_sporo_1.shape[0])"
   ]
  },
  {
   "cell_type": "markdown",
   "metadata": {},
   "source": [
    "## Coefficent of variation"
   ]
  },
  {
   "cell_type": "code",
   "execution_count": 15,
   "metadata": {},
   "outputs": [
    {
     "data": {
      "text/plain": [
       "<matplotlib.axes._subplots.AxesSubplot at 0x127924fd0>"
      ]
     },
     "execution_count": 15,
     "metadata": {},
     "output_type": "execute_result"
    },
    {
     "data": {
      "image/png": "[encoded data removed]",
      "text/plain": [
       "<Figure size 432x288 with 1 Axes>"
      ]
     },
     "metadata": {},
     "output_type": "display_data"
    }
   ],
   "source": [
    "def get_cv(data):\n",
    "    mean = data.mean(axis=1)\n",
    "    #print(mean)\n",
    "    std = data.std(axis=1)\n",
    "    #print(std)\n",
    "    cv = std/mean\n",
    "    #print(cv)\n",
    "    return cv\n",
    "\n",
    "cvs = []\n",
    "for group in [\n",
    "    ['SPORO_1', 'SPORO_2', 'SPORO_3'],\n",
    "    ['WALL_1', 'WALL_2', 'WALL_3']]:\n",
    "    \n",
    "    data = selection[group]\n",
    "    cvs.append(get_cv(data))\n",
    "    \n",
    "    \n",
    "cvs = pd.concat(cvs,axis=1)\n",
    "cvs.columns = ['SPORO','WALL']\n",
    "cvs.plot(kind='box',showfliers=False)"
   ]
  },
  {
   "cell_type": "markdown",
   "metadata": {
    "scrolled": true
   },
   "source": [
    "## Differential Abundance Analysis - ProtRank"
   ]
  },
  {
   "cell_type": "code",
   "execution_count": 16,
   "metadata": {},
   "outputs": [],
   "source": [
    "#selection"
   ]
  },
  {
   "cell_type": "code",
   "execution_count": 17,
   "metadata": {},
   "outputs": [
    {
     "data": {
      "text/html": [
       "<div>\n",
       "<style scoped>\n",
       "    .dataframe tbody tr th:only-of-type {\n",
       "        vertical-align: middle;\n",
       "    }\n",
       "\n",
       "    .dataframe tbody tr th {\n",
       "        vertical-align: top;\n",
       "    }\n",
       "\n",
       "    .dataframe thead th {\n",
       "        text-align: right;\n",
       "    }\n",
       "</style>\n",
       "<table border=\"1\" class=\"dataframe\">\n",
       "  <thead>\n",
       "    <tr style=\"text-align: right;\">\n",
       "      <th></th>\n",
       "      <th>SPORO_1</th>\n",
       "      <th>SPORO_2</th>\n",
       "      <th>SPORO_3</th>\n",
       "      <th>WALL_1</th>\n",
       "      <th>WALL_2</th>\n",
       "      <th>WALL_3</th>\n",
       "    </tr>\n",
       "  </thead>\n",
       "  <tbody>\n",
       "    <tr>\n",
       "      <th>193</th>\n",
       "      <td>509040.0</td>\n",
       "      <td>15115000.0</td>\n",
       "      <td>81057.0</td>\n",
       "      <td>108020.0</td>\n",
       "      <td>52859.0</td>\n",
       "      <td>526270.0</td>\n",
       "    </tr>\n",
       "    <tr>\n",
       "      <th>194</th>\n",
       "      <td>2629300.0</td>\n",
       "      <td>33530000.0</td>\n",
       "      <td>1872100.0</td>\n",
       "      <td>1636300.0</td>\n",
       "      <td>0.0</td>\n",
       "      <td>3833200.0</td>\n",
       "    </tr>\n",
       "    <tr>\n",
       "      <th>195</th>\n",
       "      <td>0.0</td>\n",
       "      <td>2466100.0</td>\n",
       "      <td>0.0</td>\n",
       "      <td>0.0</td>\n",
       "      <td>0.0</td>\n",
       "      <td>634440.0</td>\n",
       "    </tr>\n",
       "    <tr>\n",
       "      <th>196</th>\n",
       "      <td>223840.0</td>\n",
       "      <td>5111700.0</td>\n",
       "      <td>0.0</td>\n",
       "      <td>1276900.0</td>\n",
       "      <td>0.0</td>\n",
       "      <td>4878100.0</td>\n",
       "    </tr>\n",
       "    <tr>\n",
       "      <th>197</th>\n",
       "      <td>521440.0</td>\n",
       "      <td>24313000.0</td>\n",
       "      <td>2029700.0</td>\n",
       "      <td>3396200.0</td>\n",
       "      <td>733360.0</td>\n",
       "      <td>6510300.0</td>\n",
       "    </tr>\n",
       "  </tbody>\n",
       "</table>\n",
       "</div>"
      ],
      "text/plain": [
       "       SPORO_1     SPORO_2    SPORO_3     WALL_1    WALL_2     WALL_3\n",
       "193   509040.0  15115000.0    81057.0   108020.0   52859.0   526270.0\n",
       "194  2629300.0  33530000.0  1872100.0  1636300.0       0.0  3833200.0\n",
       "195        0.0   2466100.0        0.0        0.0       0.0   634440.0\n",
       "196   223840.0   5111700.0        0.0  1276900.0       0.0  4878100.0\n",
       "197   521440.0  24313000.0  2029700.0  3396200.0  733360.0  6510300.0"
      ]
     },
     "execution_count": 17,
     "metadata": {},
     "output_type": "execute_result"
    }
   ],
   "source": [
    "indata_prank = selection.copy()\n",
    "indata_prank.head()"
   ]
  },
  {
   "cell_type": "code",
   "execution_count": 18,
   "metadata": {},
   "outputs": [
    {
     "data": {
      "text/html": [
       "<div>\n",
       "<style scoped>\n",
       "    .dataframe tbody tr th:only-of-type {\n",
       "        vertical-align: middle;\n",
       "    }\n",
       "\n",
       "    .dataframe tbody tr th {\n",
       "        vertical-align: top;\n",
       "    }\n",
       "\n",
       "    .dataframe thead th {\n",
       "        text-align: right;\n",
       "    }\n",
       "</style>\n",
       "<table border=\"1\" class=\"dataframe\">\n",
       "  <thead>\n",
       "    <tr style=\"text-align: right;\">\n",
       "      <th></th>\n",
       "      <th>SPORO_1</th>\n",
       "      <th>SPORO_2</th>\n",
       "      <th>SPORO_3</th>\n",
       "      <th>WALL_1</th>\n",
       "      <th>WALL_2</th>\n",
       "      <th>WALL_3</th>\n",
       "    </tr>\n",
       "    <tr>\n",
       "      <th>Gene_id</th>\n",
       "      <th></th>\n",
       "      <th></th>\n",
       "      <th></th>\n",
       "      <th></th>\n",
       "      <th></th>\n",
       "      <th></th>\n",
       "    </tr>\n",
       "  </thead>\n",
       "  <tbody>\n",
       "    <tr>\n",
       "      <th>cgd1_1060-RA-p1</th>\n",
       "      <td>509040.0</td>\n",
       "      <td>15115000.0</td>\n",
       "      <td>81057.0</td>\n",
       "      <td>108020.0</td>\n",
       "      <td>52859.0</td>\n",
       "      <td>526270.0</td>\n",
       "    </tr>\n",
       "    <tr>\n",
       "      <th>cgd1_1080-RA-p1</th>\n",
       "      <td>2629300.0</td>\n",
       "      <td>33530000.0</td>\n",
       "      <td>1872100.0</td>\n",
       "      <td>1636300.0</td>\n",
       "      <td>0.0</td>\n",
       "      <td>3833200.0</td>\n",
       "    </tr>\n",
       "    <tr>\n",
       "      <th>cgd1_110-RA-p1</th>\n",
       "      <td>0.0</td>\n",
       "      <td>2466100.0</td>\n",
       "      <td>0.0</td>\n",
       "      <td>0.0</td>\n",
       "      <td>0.0</td>\n",
       "      <td>634440.0</td>\n",
       "    </tr>\n",
       "    <tr>\n",
       "      <th>cgd1_1110-RA-p1</th>\n",
       "      <td>223840.0</td>\n",
       "      <td>5111700.0</td>\n",
       "      <td>0.0</td>\n",
       "      <td>1276900.0</td>\n",
       "      <td>0.0</td>\n",
       "      <td>4878100.0</td>\n",
       "    </tr>\n",
       "    <tr>\n",
       "      <th>cgd1_1140-RA-p1</th>\n",
       "      <td>521440.0</td>\n",
       "      <td>24313000.0</td>\n",
       "      <td>2029700.0</td>\n",
       "      <td>3396200.0</td>\n",
       "      <td>733360.0</td>\n",
       "      <td>6510300.0</td>\n",
       "    </tr>\n",
       "  </tbody>\n",
       "</table>\n",
       "</div>"
      ],
      "text/plain": [
       "                   SPORO_1     SPORO_2    SPORO_3     WALL_1    WALL_2     WALL_3\n",
       "Gene_id                                                                          \n",
       "cgd1_1060-RA-p1   509040.0  15115000.0    81057.0   108020.0   52859.0   526270.0\n",
       "cgd1_1080-RA-p1  2629300.0  33530000.0  1872100.0  1636300.0       0.0  3833200.0\n",
       "cgd1_110-RA-p1         0.0   2466100.0        0.0        0.0       0.0   634440.0\n",
       "cgd1_1110-RA-p1   223840.0   5111700.0        0.0  1276900.0       0.0  4878100.0\n",
       "cgd1_1140-RA-p1   521440.0  24313000.0  2029700.0  3396200.0  733360.0  6510300.0"
      ]
     },
     "execution_count": 18,
     "metadata": {},
     "output_type": "execute_result"
    }
   ],
   "source": [
    "#indata_prank = selection[['SPORO1', 'SPORO2', 'SPORO3',  'WALL1', 'WALL2', 'WALL3']]\n",
    "#indata_prank=indata_prank.replace(0,np.nan)\n",
    "#indata_prank=indata_prank.fillna(indata_prank.min())\n",
    "indata_prank=indata_prank.join(df[['Gene_id']],how='left')\n",
    "indata_prank.set_index('Gene_id',drop=True,inplace=True)\n",
    "indata_prank.to_csv('../out_data/out_ProtRank.csv')\n",
    "indata_prank.head()"
   ]
  },
  {
   "cell_type": "code",
   "execution_count": 19,
   "metadata": {},
   "outputs": [
    {
     "name": "stdout",
     "output_type": "stream",
     "text": [
      "\n",
      "input data contain results for 1659 proteins and 6 different conditions\n",
      "list of measured conditions: SPORO_1, SPORO_2, SPORO_3, WALL_1, WALL_2, WALL_3\n",
      "in the data, 26.4% of all counts are zeros\n",
      "\n",
      "basic statistics for the subset of the data corresponding to the provided comparisons:\n",
      "6 comparisons provided: [[['SPORO_1', 'WALL_1'], ['SPORO_2', 'WALL_2'], ['SPORO_3', 'WALL_3']]]\n",
      "after ignoring 0 rows with only zero counts, 1659 rows remain\n",
      "in the analyzed data, 26.4% of all counts are zeros\n",
      "median count is 4.71e+06 (computed over non-zero entries only)\n",
      "ratio between the largest and the smallest non-zero count is 3.47e+07\n",
      "ratio between the 90th and the 10th percentile non-zero count is 1.13e+03\n",
      "statistics of irregular missing values:\n",
      "  in total, there are 1555 comparisons involving a zero and a non-zero value (31.2% of all)\n",
      "  out of 4977 comparisons, 347 involve a zero value and a non-zero exceeding 1.0 * median (7.0% of all)\n",
      "  (the smaller the fraction, the smaller the problem with irregular zeros in the data)\n",
      "\n",
      "there are 1 groups of comparisons provided, they contain the following number of pairs: [3]\n",
      "in total, 3 comparisons will be included in the analysis\n",
      "for the given comparisons, 1659 rows with at least one nonzero count remain\n",
      "100 bootstrap realizations: 1 2 3 4 5 6 7 8 9 10 11 12 13 14 15 16 17 18 19 20 21 22 23 24 25 26 27 28 29 30 31 32 33 34 35 36 37 38 39 40 41 42 43 44 45 46 47 48 49 50 51 52 53 54 55 56 57 58 59 60 61 62 63 64 65 66 67 68 69 70 71 72 73 74 75 76 77 78 79 80 81 82 83 84 85 86 87 88 89 90 91 92 93 94 95 96 97 98 99 100 \n",
      "SPORO_vs_WALL: there are 16 proteins that have FDR 0.1 or less\n"
     ]
    }
   ],
   "source": [
    "what_to_compare = [[['SPORO_1', 'WALL_1' ], ['SPORO_2', 'WALL_2'], ['SPORO_3', 'WALL_3' ]]]\n",
    "ProtRank.data_stats(indata_prank, what_to_compare = what_to_compare, ignore_missed = True)\n",
    "description = 'SPORO_vs_WALL'\n",
    "significant_proteins = ProtRank.rank_proteins(indata_prank, what_to_compare, description,\n",
    "                                              path_to='../out_data/')"
   ]
  },
  {
   "cell_type": "code",
   "execution_count": 20,
   "metadata": {},
   "outputs": [],
   "source": [
    "#get back the results from protrank\n",
    "def parse_prank(fname='../out_data/prs-SPORO_vs_WALL.dat',desc_dict=desc_dict):\n",
    "    temp_1 = pd.read_csv(os.path.join(fname),\n",
    "                       sep='\\t', comment='#', index_col=[1],\n",
    "                       names=['id','rank','FDR','sign'])\n",
    "    temp_1['log_FDR']=-np.log10(temp_1['FDR']+0.0009)\n",
    "    temp_1['log_rank']=np.log10(temp_1['rank'])\n",
    "    temp_1['srank']=[n*1 if a=='+' else n*-1 for n,a in zip(temp_1['rank'],temp_1['sign'])]\n",
    "    temp_1['desc']=[desc_dict[n] for n in temp_1.index.values]\n",
    "    #temp_1.plot(kind='scatter',x='srank',y='log_FDR',marker='.')\n",
    "    #print(fname+'prank_outo.csv')\n",
    "    temp_1.to_csv(fname+'_prank_out.csv')\n",
    "    return temp_1\n",
    "\n",
    "out_all = parse_prank()    "
   ]
  },
  {
   "cell_type": "code",
   "execution_count": 21,
   "metadata": {},
   "outputs": [
    {
     "data": {
      "text/html": [
       "<div>\n",
       "<style scoped>\n",
       "    .dataframe tbody tr th:only-of-type {\n",
       "        vertical-align: middle;\n",
       "    }\n",
       "\n",
       "    .dataframe tbody tr th {\n",
       "        vertical-align: top;\n",
       "    }\n",
       "\n",
       "    .dataframe thead th {\n",
       "        text-align: right;\n",
       "    }\n",
       "</style>\n",
       "<table border=\"1\" class=\"dataframe\">\n",
       "  <thead>\n",
       "    <tr style=\"text-align: right;\">\n",
       "      <th></th>\n",
       "      <th>id</th>\n",
       "      <th>rank</th>\n",
       "      <th>FDR</th>\n",
       "      <th>sign</th>\n",
       "      <th>log_FDR</th>\n",
       "      <th>log_rank</th>\n",
       "      <th>srank</th>\n",
       "      <th>desc</th>\n",
       "    </tr>\n",
       "  </thead>\n",
       "  <tbody>\n",
       "    <tr>\n",
       "      <th>cgd1_800-RA-p1</th>\n",
       "      <td>1</td>\n",
       "      <td>93.857207</td>\n",
       "      <td>0.01</td>\n",
       "      <td>+</td>\n",
       "      <td>1.962574</td>\n",
       "      <td>1.972468</td>\n",
       "      <td>93.857207</td>\n",
       "      <td>Protein disulfide isomerase</td>\n",
       "    </tr>\n",
       "    <tr>\n",
       "      <th>cgd7_5150-RA-p1</th>\n",
       "      <td>2</td>\n",
       "      <td>67.279057</td>\n",
       "      <td>0.04</td>\n",
       "      <td>+</td>\n",
       "      <td>1.388277</td>\n",
       "      <td>1.827880</td>\n",
       "      <td>67.279057</td>\n",
       "      <td>Chitin-binding type-2 domain containing protein</td>\n",
       "    </tr>\n",
       "    <tr>\n",
       "      <th>cgd6_4840-RA-p1</th>\n",
       "      <td>3</td>\n",
       "      <td>65.097189</td>\n",
       "      <td>0.04</td>\n",
       "      <td>+</td>\n",
       "      <td>1.388277</td>\n",
       "      <td>1.813562</td>\n",
       "      <td>65.097189</td>\n",
       "      <td>Serine protease, subtilase family, signal peptide</td>\n",
       "    </tr>\n",
       "    <tr>\n",
       "      <th>cgd6_2090-RA-p1</th>\n",
       "      <td>4</td>\n",
       "      <td>62.289538</td>\n",
       "      <td>0.04</td>\n",
       "      <td>+</td>\n",
       "      <td>1.388277</td>\n",
       "      <td>1.794415</td>\n",
       "      <td>62.289538</td>\n",
       "      <td>Growth factor receptor cysteine-rich domain co...</td>\n",
       "    </tr>\n",
       "    <tr>\n",
       "      <th>cgd4_3090-RA-p1</th>\n",
       "      <td>5</td>\n",
       "      <td>56.644123</td>\n",
       "      <td>0.04</td>\n",
       "      <td>+</td>\n",
       "      <td>1.388277</td>\n",
       "      <td>1.753155</td>\n",
       "      <td>56.644123</td>\n",
       "      <td>Oocyst wall protein 6</td>\n",
       "    </tr>\n",
       "  </tbody>\n",
       "</table>\n",
       "</div>"
      ],
      "text/plain": [
       "                 id       rank   FDR sign   log_FDR  log_rank      srank                                               desc\n",
       "cgd1_800-RA-p1    1  93.857207  0.01    +  1.962574  1.972468  93.857207                        Protein disulfide isomerase\n",
       "cgd7_5150-RA-p1   2  67.279057  0.04    +  1.388277  1.827880  67.279057    Chitin-binding type-2 domain containing protein\n",
       "cgd6_4840-RA-p1   3  65.097189  0.04    +  1.388277  1.813562  65.097189  Serine protease, subtilase family, signal peptide\n",
       "cgd6_2090-RA-p1   4  62.289538  0.04    +  1.388277  1.794415  62.289538  Growth factor receptor cysteine-rich domain co...\n",
       "cgd4_3090-RA-p1   5  56.644123  0.04    +  1.388277  1.753155  56.644123                              Oocyst wall protein 6"
      ]
     },
     "execution_count": 21,
     "metadata": {},
     "output_type": "execute_result"
    }
   ],
   "source": [
    "out_all.sort_values('rank',ascending=False).head(5)"
   ]
  },
  {
   "cell_type": "code",
   "execution_count": 22,
   "metadata": {},
   "outputs": [],
   "source": [
    "out_all['log_sum']=np.log10(indata_prank.mean(axis=1))\n",
    "out_all['log_rank'] = [np.log10(n[0]) if n[1]=='+' else np.log10(n[0])*-1 \n",
    "                       for n in zip(out_all['rank'],out_all['sign'])]\n"
   ]
  },
  {
   "cell_type": "code",
   "execution_count": 53,
   "metadata": {},
   "outputs": [],
   "source": [
    "#the protein that have been localized\n",
    "name_dict = {\n",
    "'cgd6_2090-RA-p1':'COWP1',\n",
    "'cgd7_1800-RA-p1':'COWP2',\n",
    "'cgd4_670-RA-p1':'COWP3',\n",
    "'cgd8_3350-RA-p1':'COWP4',\n",
    "'cgd7_5150-RA-p1':'COWP5',\n",
    "'cgd4_3090-RA-p1':'COWP6',\n",
    "'cgd4_500-RA-p1':'COWP7',\n",
    "'cgd6_200-RA-p1':'COWP8',\n",
    "'cgd6_210-RA-p1':'COWP9',\n",
    "'cgd7_3120-RA-p1':'TPP',\n",
    "'cgd7_4810-RA-p1':'Fibro',  \n",
    "'cgd6_2470-RA-p1':'SOX',\n",
    "'cgd3_3430-RA-p1':'AO2',   \n",
    "'cgd2_790-RA-p1':'CCP3',\n",
    "#'cgd8_4830-RA-p1':'Kazal', \n",
    "'cgd3_190-RA-p1':'Fibrillin',     \n",
    "}"
   ]
  },
  {
   "cell_type": "code",
   "execution_count": 54,
   "metadata": {},
   "outputs": [
    {
     "data": {
      "text/html": [
       "<div>\n",
       "<style scoped>\n",
       "    .dataframe tbody tr th:only-of-type {\n",
       "        vertical-align: middle;\n",
       "    }\n",
       "\n",
       "    .dataframe tbody tr th {\n",
       "        vertical-align: top;\n",
       "    }\n",
       "\n",
       "    .dataframe thead th {\n",
       "        text-align: right;\n",
       "    }\n",
       "</style>\n",
       "<table border=\"1\" class=\"dataframe\">\n",
       "  <thead>\n",
       "    <tr style=\"text-align: right;\">\n",
       "      <th></th>\n",
       "      <th>id</th>\n",
       "      <th>rank</th>\n",
       "      <th>FDR</th>\n",
       "      <th>sign</th>\n",
       "      <th>log_FDR</th>\n",
       "      <th>log_rank</th>\n",
       "      <th>srank</th>\n",
       "      <th>desc</th>\n",
       "      <th>log_sum</th>\n",
       "      <th>negFDR</th>\n",
       "    </tr>\n",
       "  </thead>\n",
       "  <tbody>\n",
       "    <tr>\n",
       "      <th>cgd1_800-RA-p1</th>\n",
       "      <td>1</td>\n",
       "      <td>93.857207</td>\n",
       "      <td>0.01</td>\n",
       "      <td>+</td>\n",
       "      <td>1.962574</td>\n",
       "      <td>1.972468</td>\n",
       "      <td>93.857207</td>\n",
       "      <td>Protein disulfide isomerase</td>\n",
       "      <td>8.106946</td>\n",
       "      <td>-0.01</td>\n",
       "    </tr>\n",
       "    <tr>\n",
       "      <th>cgd7_5150-RA-p1</th>\n",
       "      <td>2</td>\n",
       "      <td>67.279057</td>\n",
       "      <td>0.04</td>\n",
       "      <td>+</td>\n",
       "      <td>1.388277</td>\n",
       "      <td>1.827880</td>\n",
       "      <td>67.279057</td>\n",
       "      <td>Chitin-binding type-2 domain containing protein</td>\n",
       "      <td>7.623759</td>\n",
       "      <td>-0.04</td>\n",
       "    </tr>\n",
       "    <tr>\n",
       "      <th>cgd6_4840-RA-p1</th>\n",
       "      <td>3</td>\n",
       "      <td>65.097189</td>\n",
       "      <td>0.04</td>\n",
       "      <td>+</td>\n",
       "      <td>1.388277</td>\n",
       "      <td>1.813562</td>\n",
       "      <td>65.097189</td>\n",
       "      <td>Serine protease, subtilase family, signal peptide</td>\n",
       "      <td>7.598579</td>\n",
       "      <td>-0.04</td>\n",
       "    </tr>\n",
       "    <tr>\n",
       "      <th>cgd6_2090-RA-p1</th>\n",
       "      <td>4</td>\n",
       "      <td>62.289538</td>\n",
       "      <td>0.04</td>\n",
       "      <td>+</td>\n",
       "      <td>1.388277</td>\n",
       "      <td>1.794415</td>\n",
       "      <td>62.289538</td>\n",
       "      <td>Growth factor receptor cysteine-rich domain co...</td>\n",
       "      <td>10.226054</td>\n",
       "      <td>-0.04</td>\n",
       "    </tr>\n",
       "    <tr>\n",
       "      <th>cgd4_3090-RA-p1</th>\n",
       "      <td>5</td>\n",
       "      <td>56.644123</td>\n",
       "      <td>0.04</td>\n",
       "      <td>+</td>\n",
       "      <td>1.388277</td>\n",
       "      <td>1.753155</td>\n",
       "      <td>56.644123</td>\n",
       "      <td>Oocyst wall protein 6</td>\n",
       "      <td>8.266197</td>\n",
       "      <td>-0.04</td>\n",
       "    </tr>\n",
       "  </tbody>\n",
       "</table>\n",
       "</div>"
      ],
      "text/plain": [
       "                 id       rank   FDR sign   log_FDR  log_rank      srank                                               desc    log_sum  negFDR\n",
       "cgd1_800-RA-p1    1  93.857207  0.01    +  1.962574  1.972468  93.857207                        Protein disulfide isomerase   8.106946   -0.01\n",
       "cgd7_5150-RA-p1   2  67.279057  0.04    +  1.388277  1.827880  67.279057    Chitin-binding type-2 domain containing protein   7.623759   -0.04\n",
       "cgd6_4840-RA-p1   3  65.097189  0.04    +  1.388277  1.813562  65.097189  Serine protease, subtilase family, signal peptide   7.598579   -0.04\n",
       "cgd6_2090-RA-p1   4  62.289538  0.04    +  1.388277  1.794415  62.289538  Growth factor receptor cysteine-rich domain co...  10.226054   -0.04\n",
       "cgd4_3090-RA-p1   5  56.644123  0.04    +  1.388277  1.753155  56.644123                              Oocyst wall protein 6   8.266197   -0.04"
      ]
     },
     "execution_count": 54,
     "metadata": {},
     "output_type": "execute_result"
    }
   ],
   "source": [
    "out_all.head()"
   ]
  },
  {
   "cell_type": "markdown",
   "metadata": {},
   "source": [
    "## MA plot"
   ]
  },
  {
   "cell_type": "code",
   "execution_count": 55,
   "metadata": {},
   "outputs": [
    {
     "name": "stdout",
     "output_type": "stream",
     "text": [
      "['cgd6_2090-RA-p1', 'cgd7_1800-RA-p1', 'cgd4_670-RA-p1', 'cgd8_3350-RA-p1', 'cgd7_5150-RA-p1', 'cgd4_3090-RA-p1', 'cgd4_500-RA-p1', 'cgd6_200-RA-p1', 'cgd6_210-RA-p1', 'cgd7_3120-RA-p1', 'cgd7_4810-RA-p1', 'cgd6_2470-RA-p1', 'cgd3_3430-RA-p1', 'cgd2_790-RA-p1', 'cgd3_190-RA-p1']\n",
      "['COWP1', 'COWP2', 'COWP3', 'COWP4', 'COWP5', 'COWP6', 'COWP7', 'COWP8', 'COWP9', 'TPP', 'Fibro', 'SOX', 'AO2', 'CCP3', 'Fibrillin']\n",
      "no selection\n"
     ]
    },
    {
     "name": "stderr",
     "output_type": "stream",
     "text": [
      "No handles with labels found to put in legend.\n"
     ]
    },
    {
     "name": "stdout",
     "output_type": "stream",
     "text": [
      "3.759791999262934 11.0\n"
     ]
    },
    {
     "data": {
      "image/png": "[encoded data removed]",
      "text/plain": [
       "<Figure size 748x374 with 1 Axes>"
      ]
     },
     "metadata": {},
     "output_type": "display_data"
    }
   ],
   "source": [
    "#ax.spines['left'].set_bounds(ymin+small_add, ymax)\n",
    "\n",
    "#xmin, xmax = ax.get_xlim()\n",
    "#ax.set_xlim(xmin,xmax)\n",
    "\n",
    "#ax.spines['bottom'].set_bounds(xmin+0.5, xmax)\n",
    "fontProperties = {'family':'Arial',\n",
    "    'weight' : 'normal', 'size' : 7}\n",
    "fontProperties_names = {'family':'Arial',\n",
    "    'weight' : 'bold', 'size' : 7}\n",
    "\n",
    "plt.style.use('fivethirtyeight')\n",
    "plt.style.use('default')\n",
    "\n",
    "\n",
    "\n",
    "fig, axes=plt.subplots(figsize=(7.48,3.74), \n",
    "                     ncols=1, nrows=1)\n",
    "\n",
    "#ids = df[df['Gene_id'].isin(['Tb927.11.11750','Tb927.3.2610'])]\n",
    "\n",
    "_ids = list(name_dict.keys())\n",
    "print(_ids)\n",
    "#_names = viz.loc[_ids]['desc'] \n",
    "_names = [name_dict[n] for n in _ids]\n",
    "#[['Gene_id']].values#['Tb927.11.11750']#ids['desc2'].values\n",
    "#_names = [n[0] for n in _names]\n",
    "print(_names)\n",
    "#print(len(_ids))\n",
    "#print(len(_names))\n",
    "ax=axes\n",
    "PTUT.make_vulcano(out_all, ax, x='log_sum', y='srank', \n",
    "             annot_index=_ids,\n",
    "             annot_names = _names,\n",
    "             title='',\n",
    "             #fc_limit=70,\n",
    "             fc_col='srank',\n",
    "                  alpha_main=0.3,\n",
    "             point_size_selection=5,\n",
    "             point_size_all=5,\n",
    "            text_size=7,\n",
    "                  fontdict=fontProperties_names\n",
    "            )\n",
    "\n",
    "ax.set_title('oocyst vs sporozoite')\n",
    "ax.set_xlabel('log10iBAQ',fontdict=fontProperties_names)\n",
    "ax.set_ylabel('SignedRank',fontdict=fontProperties_names)\n",
    "#ax.legend(loc='upper center', bbox_to_anchor=(1.1, 0.9),\n",
    "#          title='Legend')\n",
    "#ax.yaxis.label.set_size(18)\n",
    "#ax.xaxis.label.set_size(18)\n",
    "#ax.title.set_size(18)\n",
    "ax.tick_params(axis='both', which='major', labelsize=7)\n",
    "\n",
    "\n",
    "\n",
    "\n",
    "\n",
    "temp_xticks=[round(n,1) for n in np.arange(4, 12, 1)]\n",
    "#print(temp_xticks)\n",
    "ax.set_xticks(temp_xticks)\n",
    "ax.set_xticklabels(temp_xticks, fontProperties)\n",
    "\n",
    "\n",
    "temp_yticks=[round(n,1) for n in np.arange(-40, 110, 10)]\n",
    "\n",
    "ax.set_yticks(temp_yticks)\n",
    "ax.set_yticklabels(temp_yticks, fontProperties)\n",
    "\n",
    "\n",
    "\n",
    "\n",
    "\n",
    "\n",
    "ax.spines['top'].set_color('none')\n",
    "ax.spines['right'].set_color('none')\n",
    "xmin, xmax = ax.get_xlim()\n",
    "print(xmin, xmax)\n",
    "ax.spines['bottom'].set_bounds(4, 11)\n",
    "ymin, ymax = ax.get_ylim()\n",
    "ax.spines['left'].set_bounds(-40, 100)\n",
    "ax.get_legend().remove()\n",
    "\n",
    "\n",
    "\n",
    "plt.tight_layout()\n",
    "plt.savefig('../out_data/FigX.svg')\n",
    "\n",
    "plt.savefig('../out_data/FigX.png')\n",
    "plt.show()\n"
   ]
  },
  {
   "cell_type": "markdown",
   "metadata": {},
   "source": [
    "## 1) COWPs  MA"
   ]
  },
  {
   "cell_type": "code",
   "execution_count": 56,
   "metadata": {},
   "outputs": [
    {
     "name": "stdout",
     "output_type": "stream",
     "text": [
      "['cgd6_2090-RA-p1', 'cgd7_1800-RA-p1', 'cgd4_670-RA-p1', 'cgd8_3350-RA-p1', 'cgd7_5150-RA-p1', 'cgd4_3090-RA-p1', 'cgd4_500-RA-p1', 'cgd6_200-RA-p1', 'cgd6_210-RA-p1']\n",
      "['COWP1', 'COWP2', 'COWP3', 'COWP4', 'COWP5', 'COWP6', 'COWP7', 'COWP8', 'COWP9']\n",
      "no selection\n"
     ]
    },
    {
     "name": "stderr",
     "output_type": "stream",
     "text": [
      "No handles with labels found to put in legend.\n"
     ]
    },
    {
     "name": "stdout",
     "output_type": "stream",
     "text": [
      "3.759791999262934 11.0\n"
     ]
    },
    {
     "data": {
      "image/png": "[encoded data removed]",
      "text/plain": [
       "<Figure size 748x374 with 1 Axes>"
      ]
     },
     "metadata": {},
     "output_type": "display_data"
    }
   ],
   "source": [
    "#the protein that have been localized\n",
    "name_dict = {\n",
    "'cgd6_2090-RA-p1':'COWP1',\n",
    "'cgd7_1800-RA-p1':'COWP2',\n",
    "'cgd4_670-RA-p1':'COWP3',\n",
    "'cgd8_3350-RA-p1':'COWP4',\n",
    "'cgd7_5150-RA-p1':'COWP5',\n",
    "'cgd4_3090-RA-p1':'COWP6',\n",
    "'cgd4_500-RA-p1':'COWP7',\n",
    "'cgd6_200-RA-p1':'COWP8',\n",
    "'cgd6_210-RA-p1':'COWP9',\n",
    "#'cgd8_4830-RA-p1':'Kazal', \n",
    "     \n",
    "}\n",
    "\n",
    "#ax.spines['bottom'].set_bounds(xmin+0.5, xmax)\n",
    "fontProperties = {'family':'Arial',\n",
    "    'weight' : 'normal', 'size' : 7}\n",
    "fontProperties_names = {'family':'Arial',\n",
    "    'weight' : 'bold', 'size' : 7}\n",
    "\n",
    "plt.style.use('fivethirtyeight')\n",
    "plt.style.use('default')\n",
    "\n",
    "\n",
    "\n",
    "fig, axes=plt.subplots(figsize=(7.48,3.74), \n",
    "                     ncols=1, nrows=1)\n",
    "\n",
    "#ids = df[df['Gene_id'].isin(['Tb927.11.11750','Tb927.3.2610'])]\n",
    "\n",
    "_ids = list(name_dict.keys())\n",
    "print(_ids)\n",
    "#_names = viz.loc[_ids]['desc'] \n",
    "_names = [name_dict[n] for n in _ids]\n",
    "#[['Gene_id']].values#['Tb927.11.11750']#ids['desc2'].values\n",
    "#_names = [n[0] for n in _names]\n",
    "print(_names)\n",
    "#print(len(_ids))\n",
    "#print(len(_names))\n",
    "ax=axes\n",
    "PTUT.make_vulcano(out_all, ax, x='log_sum', y='srank', \n",
    "             annot_index=_ids,\n",
    "             annot_names = _names,\n",
    "             title='',\n",
    "             #fc_limit=70,\n",
    "             fc_col='srank',\n",
    "                  alpha_main=0.3,\n",
    "             point_size_selection=5,\n",
    "             point_size_all=5,\n",
    "            text_size=7,\n",
    "                  fontdict=fontProperties_names\n",
    "            )\n",
    "\n",
    "ax.set_title('oocyst vs sporozoite')\n",
    "ax.set_xlabel('log10iBAQ',fontdict=fontProperties_names)\n",
    "ax.set_ylabel('SignedRank',fontdict=fontProperties_names)\n",
    "#ax.legend(loc='upper center', bbox_to_anchor=(1.1, 0.9),\n",
    "#          title='Legend')\n",
    "#ax.yaxis.label.set_size(18)\n",
    "#ax.xaxis.label.set_size(18)\n",
    "#ax.title.set_size(18)\n",
    "ax.tick_params(axis='both', which='major', labelsize=7)\n",
    "\n",
    "\n",
    "\n",
    "\n",
    "\n",
    "temp_xticks=[round(n,1) for n in np.arange(4, 12, 1)]\n",
    "#print(temp_xticks)\n",
    "ax.set_xticks(temp_xticks)\n",
    "ax.set_xticklabels(temp_xticks, fontProperties)\n",
    "\n",
    "\n",
    "temp_yticks=[round(n,1) for n in np.arange(-40, 110, 10)]\n",
    "\n",
    "ax.set_yticks(temp_yticks)\n",
    "ax.set_yticklabels(temp_yticks, fontProperties)\n",
    "\n",
    "\n",
    "\n",
    "\n",
    "\n",
    "\n",
    "ax.spines['top'].set_color('none')\n",
    "ax.spines['right'].set_color('none')\n",
    "xmin, xmax = ax.get_xlim()\n",
    "print(xmin, xmax)\n",
    "ax.spines['bottom'].set_bounds(4, 11)\n",
    "ymin, ymax = ax.get_ylim()\n",
    "ax.spines['left'].set_bounds(-40, 100)\n",
    "ax.get_legend().remove()\n",
    "\n",
    "\n",
    "\n",
    "plt.tight_layout()\n",
    "plt.savefig('../out_data/FigX1A.svg')\n",
    "\n",
    "plt.savefig('../out_data/FigX1A.png')\n",
    "plt.show()\n"
   ]
  },
  {
   "cell_type": "markdown",
   "metadata": {},
   "source": [
    "## 1) COWPs  Volcano"
   ]
  },
  {
   "cell_type": "code",
   "execution_count": 58,
   "metadata": {},
   "outputs": [
    {
     "name": "stdout",
     "output_type": "stream",
     "text": [
      "['cgd6_2090-RA-p1', 'cgd7_1800-RA-p1', 'cgd4_670-RA-p1', 'cgd8_3350-RA-p1', 'cgd7_5150-RA-p1', 'cgd4_3090-RA-p1', 'cgd4_500-RA-p1', 'cgd6_200-RA-p1', 'cgd6_210-RA-p1']\n",
      "['COWP1', 'COWP2', 'COWP3', 'COWP4', 'COWP5', 'COWP6', 'COWP7', 'COWP8', 'COWP9']\n",
      "no selection\n"
     ]
    },
    {
     "name": "stderr",
     "output_type": "stream",
     "text": [
      "No handles with labels found to put in legend.\n"
     ]
    },
    {
     "name": "stdout",
     "output_type": "stream",
     "text": [
      "[-50, -40, -30, -20, -10, 0, 10, 20, 30, 40, 50, 60, 70, 80, 90, 100]\n",
      "[-1.2 -1.  -0.8 -0.6 -0.4 -0.2  0.   0.2]\n",
      "-50.0 100.19728614999998\n"
     ]
    },
    {
     "data": {
      "image/png": "[encoded data removed]",
      "text/plain": [
       "<Figure size 748x374 with 1 Axes>"
      ]
     },
     "metadata": {},
     "output_type": "display_data"
    }
   ],
   "source": [
    "out_all['negFDR']=out_all['FDR']*-1\n",
    "#the protein that have been localized\n",
    "name_dict = {\n",
    "'cgd6_2090-RA-p1':'COWP1',\n",
    "'cgd7_1800-RA-p1':'COWP2',\n",
    "'cgd4_670-RA-p1':'COWP3',\n",
    "'cgd8_3350-RA-p1':'COWP4',\n",
    "'cgd7_5150-RA-p1':'COWP5',\n",
    "'cgd4_3090-RA-p1':'COWP6',\n",
    "'cgd4_500-RA-p1':'COWP7',\n",
    "'cgd6_200-RA-p1':'COWP8',\n",
    "'cgd6_210-RA-p1':'COWP9',\n",
    "#'cgd8_4830-RA-p1':'Kazal', \n",
    "     \n",
    "}\n",
    "\n",
    "#ax.spines['bottom'].set_bounds(xmin+0.5, xmax)\n",
    "fontProperties = {'family':'Arial',\n",
    "    'weight' : 'normal', 'size' : 7}\n",
    "fontProperties_names = {'family':'Arial',\n",
    "    'weight' : 'bold', 'size' : 7}\n",
    "\n",
    "plt.style.use('fivethirtyeight')\n",
    "plt.style.use('default')\n",
    "\n",
    "\n",
    "\n",
    "fig, axes=plt.subplots(figsize=(7.48,3.74), \n",
    "                     ncols=1, nrows=1)\n",
    "\n",
    "#ids = df[df['Gene_id'].isin(['Tb927.11.11750','Tb927.3.2610'])]\n",
    "\n",
    "_ids = list(name_dict.keys())\n",
    "print(_ids)\n",
    "#_names = viz.loc[_ids]['desc'] \n",
    "_names = [name_dict[n] for n in _ids]\n",
    "#[['Gene_id']].values#['Tb927.11.11750']#ids['desc2'].values\n",
    "#_names = [n[0] for n in _names]\n",
    "print(_names)\n",
    "#print(len(_ids))\n",
    "#print(len(_names))\n",
    "ax=axes\n",
    "PTUT.make_vulcano(out_all, ax, x='srank', y='negFDR', \n",
    "             annot_index=_ids,\n",
    "             annot_names = _names,\n",
    "             title='',\n",
    "             #fc_limit=70,\n",
    "             fc_col='srank',\n",
    "                  alpha_main=0.3,\n",
    "             point_size_selection=5,\n",
    "             point_size_all=5,\n",
    "             text_size=7,\n",
    "                  fontdict=fontProperties_names\n",
    "            )\n",
    "\n",
    "ax.set_title('oocyst vs sporozoite')\n",
    "ax.set_xlabel('SignedRank',fontdict=fontProperties_names)\n",
    "ax.set_ylabel('FDR',fontdict=fontProperties_names)\n",
    "#ax.legend(loc='upper center', bbox_to_anchor=(1.1, 0.9),\n",
    "#          title='Legend')\n",
    "#ax.yaxis.label.set_size(18)\n",
    "#ax.xaxis.label.set_size(18)\n",
    "#ax.title.set_size(18)\n",
    "ax.tick_params(axis='both', which='major', labelsize=7)\n",
    "\n",
    "\n",
    "\n",
    "\n",
    "\n",
    "temp_xticks=[round(n,1) for n in np.arange(-50, 110, 10)]\n",
    "print(temp_xticks)\n",
    "ax.set_xticks(temp_xticks)\n",
    "ax.set_xticklabels(temp_xticks, fontProperties)\n",
    "\n",
    "\n",
    "print(ax.get_yticks())\n",
    "#temp_yticks=[round(n,1) for n in np.arange(-40, 110, 10)]\n",
    "\n",
    "#ax.set_yticks(temp_yticks)\n",
    "ax.set_yticklabels([abs(round(n,1)) for n in ax.get_yticks()*-1], fontProperties)\n",
    "\n",
    "\n",
    "\n",
    "\n",
    "ax.spines['top'].set_color('none')\n",
    "ax.spines['right'].set_color('none')\n",
    "xmin, xmax = ax.get_xlim()\n",
    "print(xmin, xmax)\n",
    "ax.spines['bottom'].set_bounds(-50, 100)\n",
    "ymin, ymax = ax.get_ylim()\n",
    "ax.spines['left'].set_bounds(-1, 0)\n",
    "ax.get_legend().remove()\n",
    "\n",
    "\n",
    "\n",
    "plt.tight_layout()\n",
    "plt.savefig('../out_data/FigX1B.svg')\n",
    "\n",
    "plt.savefig('../out_data/FigX1B.png')\n",
    "plt.show()\n"
   ]
  },
  {
   "cell_type": "markdown",
   "metadata": {},
   "source": [
    "## 2) Signal peptide prediction (>60%)  MA"
   ]
  },
  {
   "cell_type": "code",
   "execution_count": 67,
   "metadata": {},
   "outputs": [],
   "source": [
    "signalP = pd.read_csv('../in_data/CryptoDB-45_CparvumIowaII_AnnotatedProteins_summary.signalp5',\n",
    "                      sep='\\t',index_col=0)\n",
    "signalP.head()\n",
    "signalP = signalP[signalP.iloc[:,1]>0.6]\n",
    "signalP = set(signalP.index.values)"
   ]
  },
  {
   "cell_type": "code",
   "execution_count": 68,
   "metadata": {},
   "outputs": [
    {
     "data": {
      "text/html": [
       "<div>\n",
       "<style scoped>\n",
       "    .dataframe tbody tr th:only-of-type {\n",
       "        vertical-align: middle;\n",
       "    }\n",
       "\n",
       "    .dataframe tbody tr th {\n",
       "        vertical-align: top;\n",
       "    }\n",
       "\n",
       "    .dataframe thead th {\n",
       "        text-align: right;\n",
       "    }\n",
       "</style>\n",
       "<table border=\"1\" class=\"dataframe\">\n",
       "  <thead>\n",
       "    <tr style=\"text-align: right;\">\n",
       "      <th></th>\n",
       "      <th>id</th>\n",
       "      <th>rank</th>\n",
       "      <th>FDR</th>\n",
       "      <th>sign</th>\n",
       "      <th>log_FDR</th>\n",
       "      <th>log_rank</th>\n",
       "      <th>srank</th>\n",
       "      <th>desc</th>\n",
       "      <th>log_sum</th>\n",
       "      <th>negFDR</th>\n",
       "    </tr>\n",
       "  </thead>\n",
       "  <tbody>\n",
       "    <tr>\n",
       "      <th>cgd1_800-RA-p1</th>\n",
       "      <td>1</td>\n",
       "      <td>93.857207</td>\n",
       "      <td>0.01</td>\n",
       "      <td>+</td>\n",
       "      <td>1.962574</td>\n",
       "      <td>1.972468</td>\n",
       "      <td>93.857207</td>\n",
       "      <td>Protein disulfide isomerase</td>\n",
       "      <td>8.106946</td>\n",
       "      <td>-0.01</td>\n",
       "    </tr>\n",
       "    <tr>\n",
       "      <th>cgd7_5150-RA-p1</th>\n",
       "      <td>2</td>\n",
       "      <td>67.279057</td>\n",
       "      <td>0.04</td>\n",
       "      <td>+</td>\n",
       "      <td>1.388277</td>\n",
       "      <td>1.827880</td>\n",
       "      <td>67.279057</td>\n",
       "      <td>Chitin-binding type-2 domain containing protein</td>\n",
       "      <td>7.623759</td>\n",
       "      <td>-0.04</td>\n",
       "    </tr>\n",
       "    <tr>\n",
       "      <th>cgd6_4840-RA-p1</th>\n",
       "      <td>3</td>\n",
       "      <td>65.097189</td>\n",
       "      <td>0.04</td>\n",
       "      <td>+</td>\n",
       "      <td>1.388277</td>\n",
       "      <td>1.813562</td>\n",
       "      <td>65.097189</td>\n",
       "      <td>Serine protease, subtilase family, signal peptide</td>\n",
       "      <td>7.598579</td>\n",
       "      <td>-0.04</td>\n",
       "    </tr>\n",
       "    <tr>\n",
       "      <th>cgd6_2090-RA-p1</th>\n",
       "      <td>4</td>\n",
       "      <td>62.289538</td>\n",
       "      <td>0.04</td>\n",
       "      <td>+</td>\n",
       "      <td>1.388277</td>\n",
       "      <td>1.794415</td>\n",
       "      <td>62.289538</td>\n",
       "      <td>Growth factor receptor cysteine-rich domain co...</td>\n",
       "      <td>10.226054</td>\n",
       "      <td>-0.04</td>\n",
       "    </tr>\n",
       "    <tr>\n",
       "      <th>cgd4_3090-RA-p1</th>\n",
       "      <td>5</td>\n",
       "      <td>56.644123</td>\n",
       "      <td>0.04</td>\n",
       "      <td>+</td>\n",
       "      <td>1.388277</td>\n",
       "      <td>1.753155</td>\n",
       "      <td>56.644123</td>\n",
       "      <td>Oocyst wall protein 6</td>\n",
       "      <td>8.266197</td>\n",
       "      <td>-0.04</td>\n",
       "    </tr>\n",
       "  </tbody>\n",
       "</table>\n",
       "</div>"
      ],
      "text/plain": [
       "                 id       rank   FDR sign   log_FDR  log_rank      srank                                               desc    log_sum  negFDR\n",
       "cgd1_800-RA-p1    1  93.857207  0.01    +  1.962574  1.972468  93.857207                        Protein disulfide isomerase   8.106946   -0.01\n",
       "cgd7_5150-RA-p1   2  67.279057  0.04    +  1.388277  1.827880  67.279057    Chitin-binding type-2 domain containing protein   7.623759   -0.04\n",
       "cgd6_4840-RA-p1   3  65.097189  0.04    +  1.388277  1.813562  65.097189  Serine protease, subtilase family, signal peptide   7.598579   -0.04\n",
       "cgd6_2090-RA-p1   4  62.289538  0.04    +  1.388277  1.794415  62.289538  Growth factor receptor cysteine-rich domain co...  10.226054   -0.04\n",
       "cgd4_3090-RA-p1   5  56.644123  0.04    +  1.388277  1.753155  56.644123                              Oocyst wall protein 6   8.266197   -0.04"
      ]
     },
     "execution_count": 68,
     "metadata": {},
     "output_type": "execute_result"
    }
   ],
   "source": []
  },
  {
   "cell_type": "code",
   "execution_count": 73,
   "metadata": {},
   "outputs": [
    {
     "name": "stderr",
     "output_type": "stream",
     "text": [
      "No handles with labels found to put in legend.\n"
     ]
    },
    {
     "name": "stdout",
     "output_type": "stream",
     "text": [
      "no selection\n",
      "3.759791999262934 11.0\n"
     ]
    },
    {
     "data": {
      "image/png": "[encoded data removed]",
      "text/plain": [
       "<Figure size 748x374 with 1 Axes>"
      ]
     },
     "metadata": {},
     "output_type": "display_data"
    }
   ],
   "source": [
    "#the protein that have been localized\n",
    "\n",
    "\n",
    "#ax.spines['bottom'].set_bounds(xmin+0.5, xmax)\n",
    "fontProperties = {'family':'Arial',\n",
    "    'weight' : 'normal', 'size' : 7}\n",
    "fontProperties_names = {'family':'Arial',\n",
    "    'weight' : 'bold', 'size' : 7}\n",
    "\n",
    "plt.style.use('fivethirtyeight')\n",
    "plt.style.use('default')\n",
    "\n",
    "\n",
    "\n",
    "fig, axes=plt.subplots(figsize=(7.48,3.74), \n",
    "                     ncols=1, nrows=1)\n",
    "\n",
    "#ids = df[df['Gene_id'].isin(['Tb927.11.11750','Tb927.3.2610'])]\n",
    "\n",
    "_ids = [n for n in out_all.index.values if n in signalP]\n",
    "#print(_ids)\n",
    "#_names = viz.loc[_ids]['desc'] \n",
    "_names = [name_dict.get(n,'none') for n in _ids]\n",
    "#[['Gene_id']].values#['Tb927.11.11750']#ids['desc2'].values\n",
    "#_names = [n[0] for n in _names]\n",
    "#print(_names)\n",
    "#print(len(_ids))\n",
    "#print(len(_names))\n",
    "ax=axes\n",
    "PTUT.make_vulcano(out_all, ax, x='log_sum', y='srank', \n",
    "             annot_index=_ids,\n",
    "             annot_names = _names,\n",
    "             title='',\n",
    "             #fc_limit=70,\n",
    "             fc_col='srank',\n",
    "                  alpha_main=0.3,\n",
    "             point_size_selection=5,\n",
    "             point_size_all=5,\n",
    "            text_size=7,\n",
    "                  fontdict=fontProperties_names,\n",
    "                  add_text=False\n",
    "            )\n",
    "\n",
    "ax.set_title('oocyst vs sporozoite')\n",
    "ax.set_xlabel('log10iBAQ',fontdict=fontProperties_names)\n",
    "ax.set_ylabel('SignedRank',fontdict=fontProperties_names)\n",
    "#ax.legend(loc='upper center', bbox_to_anchor=(1.1, 0.9),\n",
    "#          title='Legend')\n",
    "#ax.yaxis.label.set_size(18)\n",
    "#ax.xaxis.label.set_size(18)\n",
    "#ax.title.set_size(18)\n",
    "ax.tick_params(axis='both', which='major', labelsize=7)\n",
    "\n",
    "\n",
    "\n",
    "\n",
    "\n",
    "temp_xticks=[round(n,1) for n in np.arange(4, 12, 1)]\n",
    "#print(temp_xticks)\n",
    "ax.set_xticks(temp_xticks)\n",
    "ax.set_xticklabels(temp_xticks, fontProperties)\n",
    "\n",
    "\n",
    "temp_yticks=[round(n,1) for n in np.arange(-40, 110, 10)]\n",
    "\n",
    "ax.set_yticks(temp_yticks)\n",
    "ax.set_yticklabels(temp_yticks, fontProperties)\n",
    "\n",
    "\n",
    "\n",
    "\n",
    "\n",
    "\n",
    "ax.spines['top'].set_color('none')\n",
    "ax.spines['right'].set_color('none')\n",
    "xmin, xmax = ax.get_xlim()\n",
    "print(xmin, xmax)\n",
    "ax.spines['bottom'].set_bounds(4, 11)\n",
    "ymin, ymax = ax.get_ylim()\n",
    "ax.spines['left'].set_bounds(-40, 100)\n",
    "ax.get_legend().remove()\n",
    "\n",
    "\n",
    "\n",
    "plt.tight_layout()\n",
    "plt.savefig('../out_data/FigX2A.svg')\n",
    "\n",
    "plt.savefig('../out_data/FigX2A.png')\n",
    "plt.show()\n",
    "\n"
   ]
  },
  {
   "cell_type": "markdown",
   "metadata": {},
   "source": [
    "## 2) Signal peptide prediction (>60%)  Volcano"
   ]
  },
  {
   "cell_type": "code",
   "execution_count": 75,
   "metadata": {},
   "outputs": [
    {
     "name": "stderr",
     "output_type": "stream",
     "text": [
      "No handles with labels found to put in legend.\n"
     ]
    },
    {
     "name": "stdout",
     "output_type": "stream",
     "text": [
      "no selection\n",
      "[-50, -40, -30, -20, -10, 0, 10, 20, 30, 40, 50, 60, 70, 80, 90, 100]\n",
      "[-1.2 -1.  -0.8 -0.6 -0.4 -0.2  0.   0.2]\n",
      "-50.0 100.19728614999998\n"
     ]
    },
    {
     "data": {
      "image/png": "[encoded data removed]",
      "text/plain": [
       "<Figure size 748x374 with 1 Axes>"
      ]
     },
     "metadata": {},
     "output_type": "display_data"
    }
   ],
   "source": [
    "#ax.spines['bottom'].set_bounds(xmin+0.5, xmax)\n",
    "fontProperties = {'family':'Arial',\n",
    "    'weight' : 'normal', 'size' : 7}\n",
    "fontProperties_names = {'family':'Arial',\n",
    "    'weight' : 'bold', 'size' : 7}\n",
    "\n",
    "plt.style.use('fivethirtyeight')\n",
    "plt.style.use('default')\n",
    "\n",
    "\n",
    "\n",
    "fig, axes=plt.subplots(figsize=(7.48,3.74), \n",
    "                     ncols=1, nrows=1)\n",
    "\n",
    "#ids = df[df['Gene_id'].isin(['Tb927.11.11750','Tb927.3.2610'])]\n",
    "\n",
    "#_ids = list(name_dict.keys())\n",
    "#print(_ids)\n",
    "#_names = viz.loc[_ids]['desc'] \n",
    "#_names = [name_dict[n] for n in _ids]\n",
    "#[['Gene_id']].values#['Tb927.11.11750']#ids['desc2'].values\n",
    "#_names = [n[0] for n in _names]\n",
    "#print(_names)\n",
    "#print(len(_ids))\n",
    "#print(len(_names))\n",
    "ax=axes\n",
    "PTUT.make_vulcano(out_all, ax, x='srank', y='negFDR', \n",
    "             annot_index=_ids,\n",
    "             annot_names = _names,\n",
    "             title='',\n",
    "             #fc_limit=70,\n",
    "             fc_col='srank',\n",
    "                  alpha_main=0.3,\n",
    "             point_size_selection=5,\n",
    "             point_size_all=5,\n",
    "             text_size=7,\n",
    "                  fontdict=fontProperties_names,\n",
    "                  add_text=False\n",
    "            )\n",
    "\n",
    "ax.set_title('oocyst vs sporozoite')\n",
    "ax.set_xlabel('SignedRank',fontdict=fontProperties_names)\n",
    "ax.set_ylabel('FDR',fontdict=fontProperties_names)\n",
    "#ax.legend(loc='upper center', bbox_to_anchor=(1.1, 0.9),\n",
    "#          title='Legend')\n",
    "#ax.yaxis.label.set_size(18)\n",
    "#ax.xaxis.label.set_size(18)\n",
    "#ax.title.set_size(18)\n",
    "ax.tick_params(axis='both', which='major', labelsize=7)\n",
    "\n",
    "\n",
    "\n",
    "\n",
    "\n",
    "temp_xticks=[round(n,1) for n in np.arange(-50, 110, 10)]\n",
    "print(temp_xticks)\n",
    "ax.set_xticks(temp_xticks)\n",
    "ax.set_xticklabels(temp_xticks, fontProperties)\n",
    "\n",
    "\n",
    "print(ax.get_yticks())\n",
    "#temp_yticks=[round(n,1) for n in np.arange(-40, 110, 10)]\n",
    "\n",
    "#ax.set_yticks(temp_yticks)\n",
    "ax.set_yticklabels([abs(round(n,1)) for n in ax.get_yticks()*-1], fontProperties)\n",
    "\n",
    "\n",
    "\n",
    "\n",
    "ax.spines['top'].set_color('none')\n",
    "ax.spines['right'].set_color('none')\n",
    "xmin, xmax = ax.get_xlim()\n",
    "print(xmin, xmax)\n",
    "ax.spines['bottom'].set_bounds(-50, 100)\n",
    "ymin, ymax = ax.get_ylim()\n",
    "ax.spines['left'].set_bounds(-1, 0)\n",
    "ax.get_legend().remove()\n",
    "\n",
    "\n",
    "\n",
    "plt.tight_layout()\n",
    "plt.savefig('../out_data/FigX2B.svg')\n",
    "\n",
    "plt.savefig('../out_data/FigX2B.png')\n",
    "plt.show()\n"
   ]
  },
  {
   "cell_type": "markdown",
   "metadata": {},
   "source": [
    "## 3) no transmembrane domain and signal peptide"
   ]
  },
  {
   "cell_type": "code",
   "execution_count": 87,
   "metadata": {},
   "outputs": [
    {
     "data": {
      "text/html": [
       "<div>\n",
       "<style scoped>\n",
       "    .dataframe tbody tr th:only-of-type {\n",
       "        vertical-align: middle;\n",
       "    }\n",
       "\n",
       "    .dataframe tbody tr th {\n",
       "        vertical-align: top;\n",
       "    }\n",
       "\n",
       "    .dataframe thead th {\n",
       "        text-align: right;\n",
       "    }\n",
       "</style>\n",
       "<table border=\"1\" class=\"dataframe\">\n",
       "  <thead>\n",
       "    <tr style=\"text-align: right;\">\n",
       "      <th></th>\n",
       "      <th>TM</th>\n",
       "      <th>SP</th>\n",
       "      <th>PREDICTION</th>\n",
       "    </tr>\n",
       "    <tr>\n",
       "      <th>SEQENCE_ID</th>\n",
       "      <th></th>\n",
       "      <th></th>\n",
       "      <th></th>\n",
       "    </tr>\n",
       "  </thead>\n",
       "  <tbody>\n",
       "    <tr>\n",
       "      <th>cgd1_10-RA-p1</th>\n",
       "      <td>11</td>\n",
       "      <td>0</td>\n",
       "      <td>i20-43o63-83i104-125o145-172i219-242o248-269i2...</td>\n",
       "    </tr>\n",
       "    <tr>\n",
       "      <th>cgd1_100-RA-p1</th>\n",
       "      <td>0</td>\n",
       "      <td>0</td>\n",
       "      <td>o</td>\n",
       "    </tr>\n",
       "    <tr>\n",
       "      <th>cgd1_1000-RA-p1</th>\n",
       "      <td>0</td>\n",
       "      <td>0</td>\n",
       "      <td>o</td>\n",
       "    </tr>\n",
       "    <tr>\n",
       "      <th>cgd1_1010-RA-p1</th>\n",
       "      <td>0</td>\n",
       "      <td>0</td>\n",
       "      <td>o</td>\n",
       "    </tr>\n",
       "    <tr>\n",
       "      <th>cgd1_1023-RA-p1</th>\n",
       "      <td>0</td>\n",
       "      <td>0</td>\n",
       "      <td>o</td>\n",
       "    </tr>\n",
       "  </tbody>\n",
       "</table>\n",
       "</div>"
      ],
      "text/plain": [
       "                 TM SP                                         PREDICTION\n",
       "SEQENCE_ID                                                               \n",
       "cgd1_10-RA-p1    11  0  i20-43o63-83i104-125o145-172i219-242o248-269i2...\n",
       "cgd1_100-RA-p1    0  0                                                  o\n",
       "cgd1_1000-RA-p1   0  0                                                  o\n",
       "cgd1_1010-RA-p1   0  0                                                  o\n",
       "cgd1_1023-RA-p1   0  0                                                  o"
      ]
     },
     "execution_count": 87,
     "metadata": {},
     "output_type": "execute_result"
    }
   ],
   "source": [
    "phobius.head()"
   ]
  },
  {
   "cell_type": "code",
   "execution_count": 110,
   "metadata": {},
   "outputs": [],
   "source": [
    "phobius = pd.read_csv('../in_data/CryptoDB-45_CparvumIowaII_AnnotatedProteins.fasta.phobius.out',\n",
    "                      index_col=0,delim_whitespace=True,header=0)\n",
    "phobius['TM']=phobius['TM'].astype(int)\n",
    "phobius = phobius[phobius['TM']<=0]\n",
    "#phobius = set(phobius)\n",
    "#len(phobius)\n",
    "phobius['TM'].value_counts()\n",
    "phobius = set(phobius.index.values)"
   ]
  },
  {
   "cell_type": "code",
   "execution_count": 111,
   "metadata": {},
   "outputs": [
    {
     "name": "stderr",
     "output_type": "stream",
     "text": [
      "No handles with labels found to put in legend.\n"
     ]
    },
    {
     "name": "stdout",
     "output_type": "stream",
     "text": [
      "201\n",
      "(1659, 10)\n",
      "no selection\n",
      "3.759791999262934 11.0\n"
     ]
    },
    {
     "data": {
      "image/png": "[encoded data removed]",
      "text/plain": [
       "<Figure size 748x374 with 1 Axes>"
      ]
     },
     "metadata": {},
     "output_type": "display_data"
    }
   ],
   "source": [
    "#the protein that have been localized\n",
    "\n",
    "\n",
    "#ax.spines['bottom'].set_bounds(xmin+0.5, xmax)\n",
    "fontProperties = {'family':'Arial',\n",
    "    'weight' : 'normal', 'size' : 7}\n",
    "fontProperties_names = {'family':'Arial',\n",
    "    'weight' : 'bold', 'size' : 7}\n",
    "\n",
    "plt.style.use('fivethirtyeight')\n",
    "plt.style.use('default')\n",
    "\n",
    "\n",
    "\n",
    "fig, axes=plt.subplots(figsize=(7.48,3.74), \n",
    "                     ncols=1, nrows=1)\n",
    "\n",
    "#ids = df[df['Gene_id'].isin(['Tb927.11.11750','Tb927.3.2610'])]\n",
    "\n",
    "_ids = [n for n in out_all.index.values if n in phobius]\n",
    "_ids = [n for n in _ids if n in signalP]\n",
    "print(len(_ids))\n",
    "print(out_all.shape)\n",
    "#print(_ids)\n",
    "#_names = viz.loc[_ids]['desc'] \n",
    "_names = [name_dict.get(n,'none') for n in _ids]\n",
    "#[['Gene_id']].values#['Tb927.11.11750']#ids['desc2'].values\n",
    "#_names = [n[0] for n in _names]\n",
    "#print(_names)\n",
    "#print(len(_ids))\n",
    "#print(len(_names))\n",
    "ax=axes\n",
    "PTUT.make_vulcano(out_all, ax, x='log_sum', y='srank', \n",
    "             annot_index=_ids,\n",
    "             annot_names = _names,\n",
    "             title='',\n",
    "             #fc_limit=70,\n",
    "             fc_col='srank',\n",
    "                  alpha_main=0.3,\n",
    "             point_size_selection=5,\n",
    "             point_size_all=5,\n",
    "            text_size=7,\n",
    "                  fontdict=fontProperties_names,\n",
    "                  add_text=False\n",
    "            )\n",
    "\n",
    "ax.set_title('oocyst vs sporozoite')\n",
    "ax.set_xlabel('log10iBAQ',fontdict=fontProperties_names)\n",
    "ax.set_ylabel('SignedRank',fontdict=fontProperties_names)\n",
    "#ax.legend(loc='upper center', bbox_to_anchor=(1.1, 0.9),\n",
    "#          title='Legend')\n",
    "#ax.yaxis.label.set_size(18)\n",
    "#ax.xaxis.label.set_size(18)\n",
    "#ax.title.set_size(18)\n",
    "ax.tick_params(axis='both', which='major', labelsize=7)\n",
    "\n",
    "\n",
    "\n",
    "\n",
    "\n",
    "temp_xticks=[round(n,1) for n in np.arange(4, 12, 1)]\n",
    "#print(temp_xticks)\n",
    "ax.set_xticks(temp_xticks)\n",
    "ax.set_xticklabels(temp_xticks, fontProperties)\n",
    "\n",
    "\n",
    "temp_yticks=[round(n,1) for n in np.arange(-40, 110, 10)]\n",
    "\n",
    "ax.set_yticks(temp_yticks)\n",
    "ax.set_yticklabels(temp_yticks, fontProperties)\n",
    "\n",
    "\n",
    "\n",
    "\n",
    "\n",
    "\n",
    "ax.spines['top'].set_color('none')\n",
    "ax.spines['right'].set_color('none')\n",
    "xmin, xmax = ax.get_xlim()\n",
    "print(xmin, xmax)\n",
    "ax.spines['bottom'].set_bounds(4, 11)\n",
    "ymin, ymax = ax.get_ylim()\n",
    "ax.spines['left'].set_bounds(-40, 100)\n",
    "ax.get_legend().remove()\n",
    "\n",
    "\n",
    "\n",
    "plt.tight_layout()\n",
    "plt.savefig('../out_data/FigX3A.svg')\n",
    "\n",
    "plt.savefig('../out_data/FigX3A.png')\n",
    "plt.show()\n",
    "\n"
   ]
  },
  {
   "cell_type": "markdown",
   "metadata": {},
   "source": [
    "## 3) no transmembrane domain and signal peptide Volcano"
   ]
  },
  {
   "cell_type": "code",
   "execution_count": 112,
   "metadata": {},
   "outputs": [
    {
     "name": "stderr",
     "output_type": "stream",
     "text": [
      "No handles with labels found to put in legend.\n"
     ]
    },
    {
     "name": "stdout",
     "output_type": "stream",
     "text": [
      "no selection\n",
      "[-50, -40, -30, -20, -10, 0, 10, 20, 30, 40, 50, 60, 70, 80, 90, 100]\n",
      "[-1.2 -1.  -0.8 -0.6 -0.4 -0.2  0.   0.2]\n",
      "-50.0 100.19728614999998\n"
     ]
    },
    {
     "data": {
      "image/png": "[encoded data removed]",
      "text/plain": [
       "<Figure size 748x374 with 1 Axes>"
      ]
     },
     "metadata": {},
     "output_type": "display_data"
    }
   ],
   "source": [
    "#ax.spines['bottom'].set_bounds(xmin+0.5, xmax)\n",
    "fontProperties = {'family':'Arial',\n",
    "    'weight' : 'normal', 'size' : 7}\n",
    "fontProperties_names = {'family':'Arial',\n",
    "    'weight' : 'bold', 'size' : 7}\n",
    "\n",
    "plt.style.use('fivethirtyeight')\n",
    "plt.style.use('default')\n",
    "\n",
    "\n",
    "\n",
    "fig, axes=plt.subplots(figsize=(7.48,3.74), \n",
    "                     ncols=1, nrows=1)\n",
    "\n",
    "#ids = df[df['Gene_id'].isin(['Tb927.11.11750','Tb927.3.2610'])]\n",
    "\n",
    "#_ids = list(name_dict.keys())\n",
    "#print(_ids)\n",
    "#_names = viz.loc[_ids]['desc'] \n",
    "#_names = [name_dict[n] for n in _ids]\n",
    "#[['Gene_id']].values#['Tb927.11.11750']#ids['desc2'].values\n",
    "#_names = [n[0] for n in _names]\n",
    "#print(_names)\n",
    "#print(len(_ids))\n",
    "#print(len(_names))\n",
    "ax=axes\n",
    "PTUT.make_vulcano(out_all, ax, x='srank', y='negFDR', \n",
    "             annot_index=_ids,\n",
    "             annot_names = _names,\n",
    "             title='',\n",
    "             #fc_limit=70,\n",
    "             fc_col='srank',\n",
    "                  alpha_main=0.3,\n",
    "             point_size_selection=5,\n",
    "             point_size_all=5,\n",
    "             text_size=7,\n",
    "                  fontdict=fontProperties_names,\n",
    "                  add_text=False\n",
    "            )\n",
    "\n",
    "ax.set_title('oocyst vs sporozoite')\n",
    "ax.set_xlabel('SignedRank',fontdict=fontProperties_names)\n",
    "ax.set_ylabel('FDR',fontdict=fontProperties_names)\n",
    "#ax.legend(loc='upper center', bbox_to_anchor=(1.1, 0.9),\n",
    "#          title='Legend')\n",
    "#ax.yaxis.label.set_size(18)\n",
    "#ax.xaxis.label.set_size(18)\n",
    "#ax.title.set_size(18)\n",
    "ax.tick_params(axis='both', which='major', labelsize=7)\n",
    "\n",
    "\n",
    "\n",
    "\n",
    "\n",
    "temp_xticks=[round(n,1) for n in np.arange(-50, 110, 10)]\n",
    "print(temp_xticks)\n",
    "ax.set_xticks(temp_xticks)\n",
    "ax.set_xticklabels(temp_xticks, fontProperties)\n",
    "\n",
    "\n",
    "print(ax.get_yticks())\n",
    "#temp_yticks=[round(n,1) for n in np.arange(-40, 110, 10)]\n",
    "\n",
    "#ax.set_yticks(temp_yticks)\n",
    "ax.set_yticklabels([abs(round(n,1)) for n in ax.get_yticks()*-1], fontProperties)\n",
    "\n",
    "\n",
    "\n",
    "\n",
    "ax.spines['top'].set_color('none')\n",
    "ax.spines['right'].set_color('none')\n",
    "xmin, xmax = ax.get_xlim()\n",
    "print(xmin, xmax)\n",
    "ax.spines['bottom'].set_bounds(-50, 100)\n",
    "ymin, ymax = ax.get_ylim()\n",
    "ax.spines['left'].set_bounds(-1, 0)\n",
    "ax.get_legend().remove()\n",
    "\n",
    "\n",
    "\n",
    "plt.tight_layout()\n",
    "plt.savefig('../out_data/FigX3B.svg')\n",
    "\n",
    "plt.savefig('../out_data/FigX3B.png')\n",
    "plt.show()\n"
   ]
  },
  {
   "cell_type": "markdown",
   "metadata": {},
   "source": [
    "## MA plot interactive"
   ]
  },
  {
   "cell_type": "code",
   "execution_count": 48,
   "metadata": {},
   "outputs": [],
   "source": [
    "import plotly.express as px\n",
    "from plotly.subplots import make_subplots\n",
    "\n",
    "\n",
    "\n",
    "fig1 = px.scatter(out_all, x='log_sum', y='srank', #color=\"log_FDR\",\n",
    "                 #title='PIGA interacting partners',\n",
    "                 width=800, height=600,\n",
    "                 hover_name=out_all.index.values, hover_data=[\"desc\"],\n",
    "                 #color_continuous_scale='Bluered',#px.colors.sequential.Viridis,\n",
    "                )\n",
    "\n",
    "\n",
    "\n",
    "\n",
    "\n",
    "trace1 = fig1['data'][0]\n",
    "\n",
    "fig = make_subplots(rows=1, cols=2, shared_xaxes=False,shared_yaxes=False)\n",
    "fig.add_trace(trace1, row=1, col=1)\n",
    "\n",
    "fig.layout[\"xaxis\"].title.text = \"log10iBAQ\"\n",
    "fig.layout[\"yaxis\"].title.text = \"SignedRank\"\n",
    "fig.update_layout(title_text='Oocyst vs Sporozoite')\n",
    "#fig.show()\n",
    "fig.write_html(\"../out_data/oocyst_vs_sporozoite.html\")\n"
   ]
  },
  {
   "cell_type": "code",
   "execution_count": 49,
   "metadata": {},
   "outputs": [
    {
     "data": {
      "text/html": [
       "\n",
       "        <iframe\n",
       "            width=\"2000\"\n",
       "            height=\"600\"\n",
       "            src=\"../out_data/oocyst_vs_sporozoite.html\"\n",
       "            frameborder=\"0\"\n",
       "            allowfullscreen\n",
       "        ></iframe>\n",
       "        "
      ],
      "text/plain": [
       "<IPython.lib.display.IFrame at 0x12f2da220>"
      ]
     },
     "execution_count": 49,
     "metadata": {},
     "output_type": "execute_result"
    }
   ],
   "source": [
    "from IPython.display import IFrame\n",
    "IFrame(\"../out_data/oocyst_vs_sporozoite.html\", width=2000, height=600)"
   ]
  },
  {
   "cell_type": "markdown",
   "metadata": {},
   "source": [
    "## Add External Features\n",
    "- transmembrane domains\n",
    "- signal peptides"
   ]
  },
  {
   "cell_type": "code",
   "execution_count": 114,
   "metadata": {},
   "outputs": [],
   "source": [
    "signalP = pd.read_csv('../in_data/CryptoDB-45_CparvumIowaII_AnnotatedProteins_summary.signalp5',sep='\\t',index_col=0)\n",
    "final = out_all.join(signalP)"
   ]
  },
  {
   "cell_type": "code",
   "execution_count": 115,
   "metadata": {},
   "outputs": [],
   "source": [
    "phobius = pd.read_csv('../in_data/CryptoDB-45_CparvumIowaII_AnnotatedProteins.fasta.phobius.out',\n",
    "                      index_col=0,delim_whitespace=True,header=0)\n",
    "#phobius.columns = ['TM','']\n",
    "#phobius.head()"
   ]
  },
  {
   "cell_type": "code",
   "execution_count": null,
   "metadata": {},
   "outputs": [],
   "source": []
  },
  {
   "cell_type": "code",
   "execution_count": 116,
   "metadata": {},
   "outputs": [],
   "source": [
    "final = final.join(phobius)"
   ]
  },
  {
   "cell_type": "code",
   "execution_count": 117,
   "metadata": {
    "scrolled": false
   },
   "outputs": [
    {
     "data": {
      "text/html": [
       "<div>\n",
       "<style scoped>\n",
       "    .dataframe tbody tr th:only-of-type {\n",
       "        vertical-align: middle;\n",
       "    }\n",
       "\n",
       "    .dataframe tbody tr th {\n",
       "        vertical-align: top;\n",
       "    }\n",
       "\n",
       "    .dataframe thead th {\n",
       "        text-align: right;\n",
       "    }\n",
       "</style>\n",
       "<table border=\"1\" class=\"dataframe\">\n",
       "  <thead>\n",
       "    <tr style=\"text-align: right;\">\n",
       "      <th></th>\n",
       "      <th>srank</th>\n",
       "      <th>FDR</th>\n",
       "      <th>desc</th>\n",
       "      <th>SP(Sec/SPI)</th>\n",
       "      <th>TM</th>\n",
       "      <th>PREDICTION</th>\n",
       "    </tr>\n",
       "  </thead>\n",
       "  <tbody>\n",
       "    <tr>\n",
       "      <th>cgd1_800-RA-p1</th>\n",
       "      <td>93.857207</td>\n",
       "      <td>0.01</td>\n",
       "      <td>Protein disulfide isomerase</td>\n",
       "      <td>0.752807</td>\n",
       "      <td>0</td>\n",
       "      <td>n4-15c22/23o</td>\n",
       "    </tr>\n",
       "    <tr>\n",
       "      <th>cgd7_5150-RA-p1</th>\n",
       "      <td>67.279057</td>\n",
       "      <td>0.04</td>\n",
       "      <td>Chitin-binding type-2 domain containing protein</td>\n",
       "      <td>0.985015</td>\n",
       "      <td>0</td>\n",
       "      <td>n7-18c23/24o</td>\n",
       "    </tr>\n",
       "    <tr>\n",
       "      <th>cgd6_4840-RA-p1</th>\n",
       "      <td>65.097189</td>\n",
       "      <td>0.04</td>\n",
       "      <td>Serine protease, subtilase family, signal peptide</td>\n",
       "      <td>0.744158</td>\n",
       "      <td>0</td>\n",
       "      <td>n9-17c23/24o</td>\n",
       "    </tr>\n",
       "    <tr>\n",
       "      <th>cgd6_2090-RA-p1</th>\n",
       "      <td>62.289538</td>\n",
       "      <td>0.04</td>\n",
       "      <td>Growth factor receptor cysteine-rich domain co...</td>\n",
       "      <td>0.994961</td>\n",
       "      <td>0</td>\n",
       "      <td>n4-11c15/16o</td>\n",
       "    </tr>\n",
       "    <tr>\n",
       "      <th>cgd4_3090-RA-p1</th>\n",
       "      <td>56.644123</td>\n",
       "      <td>0.04</td>\n",
       "      <td>Oocyst wall protein 6</td>\n",
       "      <td>0.999096</td>\n",
       "      <td>0</td>\n",
       "      <td>n4-15c22/23o</td>\n",
       "    </tr>\n",
       "  </tbody>\n",
       "</table>\n",
       "</div>"
      ],
      "text/plain": [
       "                     srank   FDR                                               desc  SP(Sec/SPI)  TM    PREDICTION\n",
       "cgd1_800-RA-p1   93.857207  0.01                        Protein disulfide isomerase     0.752807   0  n4-15c22/23o\n",
       "cgd7_5150-RA-p1  67.279057  0.04    Chitin-binding type-2 domain containing protein     0.985015   0  n7-18c23/24o\n",
       "cgd6_4840-RA-p1  65.097189  0.04  Serine protease, subtilase family, signal peptide     0.744158   0  n9-17c23/24o\n",
       "cgd6_2090-RA-p1  62.289538  0.04  Growth factor receptor cysteine-rich domain co...     0.994961   0  n4-11c15/16o\n",
       "cgd4_3090-RA-p1  56.644123  0.04                              Oocyst wall protein 6     0.999096   0  n4-15c22/23o"
      ]
     },
     "execution_count": 117,
     "metadata": {},
     "output_type": "execute_result"
    }
   ],
   "source": [
    "my_selct = final.sort_values('srank',ascending=False)[\n",
    "    ['srank','FDR','desc','SP(Sec/SPI)','TM','PREDICTION']].head(100)\n",
    "my_selct.head()"
   ]
  },
  {
   "cell_type": "code",
   "execution_count": 118,
   "metadata": {},
   "outputs": [],
   "source": [
    "#for n in [n.replace('-RA-p1','') for n in final.sort_values('srank',ascending=False).index.values][0:100]:\n",
    "#    print(n)"
   ]
  },
  {
   "cell_type": "code",
   "execution_count": 119,
   "metadata": {},
   "outputs": [],
   "source": [
    "\n",
    "#tag ='Intensity'\n",
    "tag ='iBAQ'\n",
    "#tag ='LFQ intensity'\n",
    "def plot_prot(gene,log=True,tag='LFQ intensity',desc_dict={}):\n",
    "    plt.style.use('ggplot')\n",
    "    cols=[' SPORO_1',' SPORO_2',' SPORO_3', ' WALL_1', ' WALL_2',' WALL_3']\n",
    "    cols = [tag+n for n in cols]\n",
    "    temp = df[df['Fasta headers'].str.contains(gene)][cols]\n",
    "    temp.columns = [n.split(' ')[-1] for  n in temp.columns]\n",
    "    if log:\n",
    "        temp=np.log10(temp)\n",
    "    fig,ax=plt.subplots(figsize=(6,2))\n",
    "    sns.barplot(data=temp,palette=palette,ax=ax)#.plot(kind='bar',color=palette)\n",
    "    plt.ylabel(tag)\n",
    "    plt.title(gene.replace('-RA-p1','') +': '+desc_dict.get(gene,'none'))\n",
    "    #plt.xticks(rotation=45,ha='right')\n",
    "    plt.tight_layout()\n",
    "    plt.savefig('../out_data/'+gene+'.png')\n",
    "    \n",
    "    plt.show()\n",
    "    #print(desc_dict[gene])\n",
    "    #print(temp_PolySTest.loc[gene][['log2fc','log10meanInt']])\n"
   ]
  },
  {
   "cell_type": "code",
   "execution_count": 121,
   "metadata": {
    "scrolled": false
   },
   "outputs": [
    {
     "data": {
      "image/png": "[encoded data removed]",
      "text/plain": [
       "<Figure size 600x200 with 1 Axes>"
      ]
     },
     "metadata": {},
     "output_type": "display_data"
    }
   ],
   "source": [
    "for protein in _ids:\n",
    "    plot_prot(protein,tag ='iBAQ',log=False,desc_dict=name_dict)\n",
    "    break"
   ]
  },
  {
   "cell_type": "code",
   "execution_count": 122,
   "metadata": {},
   "outputs": [
    {
     "data": {
      "text/plain": [
       "['SPORO_1', 'SPORO_2', 'SPORO_3', 'WALL_1', 'WALL_2', 'WALL_3']"
      ]
     },
     "execution_count": 122,
     "metadata": {},
     "output_type": "execute_result"
    }
   ],
   "source": [
    "list(selection.columns)"
   ]
  },
  {
   "cell_type": "code",
   "execution_count": null,
   "metadata": {},
   "outputs": [],
   "source": []
  },
  {
   "cell_type": "markdown",
   "metadata": {},
   "source": [
    "## Save data for webapp"
   ]
  },
  {
   "cell_type": "code",
   "execution_count": 123,
   "metadata": {},
   "outputs": [
    {
     "data": {
      "text/html": [
       "<div>\n",
       "<style scoped>\n",
       "    .dataframe tbody tr th:only-of-type {\n",
       "        vertical-align: middle;\n",
       "    }\n",
       "\n",
       "    .dataframe tbody tr th {\n",
       "        vertical-align: top;\n",
       "    }\n",
       "\n",
       "    .dataframe thead th {\n",
       "        text-align: right;\n",
       "    }\n",
       "</style>\n",
       "<table border=\"1\" class=\"dataframe\">\n",
       "  <thead>\n",
       "    <tr style=\"text-align: right;\">\n",
       "      <th></th>\n",
       "      <th>Gene_id</th>\n",
       "      <th>Gene_acc</th>\n",
       "      <th>SignedRank</th>\n",
       "      <th>log10iBAQ</th>\n",
       "      <th>FDR</th>\n",
       "      <th>Desc</th>\n",
       "    </tr>\n",
       "  </thead>\n",
       "  <tbody>\n",
       "    <tr>\n",
       "      <th>0</th>\n",
       "      <td>cgd1_800</td>\n",
       "      <td>1</td>\n",
       "      <td>93.857207</td>\n",
       "      <td>8.106946</td>\n",
       "      <td>0.01</td>\n",
       "      <td>Protein disulfide isomerase</td>\n",
       "    </tr>\n",
       "    <tr>\n",
       "      <th>1</th>\n",
       "      <td>cgd7_5150</td>\n",
       "      <td>2</td>\n",
       "      <td>67.279057</td>\n",
       "      <td>7.623759</td>\n",
       "      <td>0.04</td>\n",
       "      <td>Chitin-binding type-2 domain containing protein</td>\n",
       "    </tr>\n",
       "    <tr>\n",
       "      <th>2</th>\n",
       "      <td>cgd6_4840</td>\n",
       "      <td>3</td>\n",
       "      <td>65.097189</td>\n",
       "      <td>7.598579</td>\n",
       "      <td>0.04</td>\n",
       "      <td>Serine protease, subtilase family, signal peptide</td>\n",
       "    </tr>\n",
       "    <tr>\n",
       "      <th>3</th>\n",
       "      <td>cgd6_2090</td>\n",
       "      <td>4</td>\n",
       "      <td>62.289538</td>\n",
       "      <td>10.226054</td>\n",
       "      <td>0.04</td>\n",
       "      <td>Growth factor receptor cysteine-rich domain co...</td>\n",
       "    </tr>\n",
       "    <tr>\n",
       "      <th>4</th>\n",
       "      <td>cgd4_3090</td>\n",
       "      <td>5</td>\n",
       "      <td>56.644123</td>\n",
       "      <td>8.266197</td>\n",
       "      <td>0.04</td>\n",
       "      <td>Oocyst wall protein 6</td>\n",
       "    </tr>\n",
       "  </tbody>\n",
       "</table>\n",
       "</div>"
      ],
      "text/plain": [
       "     Gene_id  Gene_acc  SignedRank  log10iBAQ   FDR                                               Desc\n",
       "0   cgd1_800         1   93.857207   8.106946  0.01                        Protein disulfide isomerase\n",
       "1  cgd7_5150         2   67.279057   7.623759  0.04    Chitin-binding type-2 domain containing protein\n",
       "2  cgd6_4840         3   65.097189   7.598579  0.04  Serine protease, subtilase family, signal peptide\n",
       "3  cgd6_2090         4   62.289538  10.226054  0.04  Growth factor receptor cysteine-rich domain co...\n",
       "4  cgd4_3090         5   56.644123   8.266197  0.04                              Oocyst wall protein 6"
      ]
     },
     "execution_count": 123,
     "metadata": {},
     "output_type": "execute_result"
    }
   ],
   "source": [
    "temp = pd.DataFrame()\n",
    "temp['Gene_id']=final.index.values\n",
    "temp['Gene_id'] = [n.replace('-RA-p1','') for n in temp['Gene_id']]\n",
    "temp['Gene_acc']=range(1,final.shape[0]+1)\n",
    "temp['SignedRank']=final['srank'].values\n",
    "temp['log10iBAQ']=final['log_sum'].values\n",
    "temp['FDR']=final['FDR'].values\n",
    "temp['Desc']=final['desc'].values\n",
    "temp[['Gene_acc','Gene_id','SignedRank',\n",
    "       'log10iBAQ','FDR','Desc']].to_csv('../webapp/indata.csv',index=False,)\n",
    "temp.head()"
   ]
  },
  {
   "cell_type": "markdown",
   "metadata": {},
   "source": [
    "## Add InParanoid info"
   ]
  },
  {
   "cell_type": "code",
   "execution_count": 37,
   "metadata": {},
   "outputs": [],
   "source": [
    "import xml.etree.ElementTree as ET\n",
    "t_gondii = ET.parse('../InParanoid.C.parvum-T.gondii/C.parvum-T.gondii.orthoXML.xml').getroot()\n",
    "p_falciparum = ET.parse('../InParanoid.C.parvum-P.falciparum/C.parvum-P.falciparum.orthoXML.xml').getroot()\n",
    "n_caninum = ET.parse('../InParanoid.C.parvum-N.caninum/C.parvum-N.caninum.orthoXML.xml').getroot()"
   ]
  },
  {
   "cell_type": "code",
   "execution_count": 38,
   "metadata": {},
   "outputs": [
    {
     "name": "stdout",
     "output_type": "stream",
     "text": [
      "{http://orthoXML.org/2011/}notes {}\n",
      "{http://orthoXML.org/2011/}species {'name': 'Cryptosporidium parvum ', 'NCBITaxId': '353152'}\n",
      "{http://orthoXML.org/2011/}species {'name': 'Toxoplasma gondii ', 'NCBITaxId': '5811'}\n",
      "{http://orthoXML.org/2011/}scores {}\n",
      "{http://orthoXML.org/2011/}groups {}\n",
      "1321\n"
     ]
    }
   ],
   "source": [
    "t_gondii_ortho = []\n",
    "for species in t_gondii:\n",
    "    print(species.tag, species.attrib)\n",
    "    if  ( (species.tag == '{http://orthoXML.org/2011/}species')\n",
    "    and (species.attrib['name'] == 'Cryptosporidium parvum ') ):\n",
    "        for database in species:\n",
    "            for genes in database:\n",
    "                for gene in genes:\n",
    "                    if gene.tag =='{http://orthoXML.org/2011/}gene':\n",
    "                        #print(gene.tag, gene.attrib['geneId'])\n",
    "                        t_gondii_ortho.append(gene.attrib['geneId'])\n",
    "\n",
    "print(len(t_gondii_ortho))\n",
    "t_gondii_ortho[0:5]\n",
    "t_gondii_ortho = set(t_gondii_ortho)"
   ]
  },
  {
   "cell_type": "code",
   "execution_count": 39,
   "metadata": {},
   "outputs": [
    {
     "name": "stdout",
     "output_type": "stream",
     "text": [
      "{http://orthoXML.org/2011/}notes {}\n",
      "{http://orthoXML.org/2011/}species {'name': 'Cryptosporidium parvum ', 'NCBITaxId': '353152'}\n",
      "{http://orthoXML.org/2011/}species {'name': 'Plasmodium falciparum (isolate 3D7) ', 'NCBITaxId': '36329'}\n",
      "{http://orthoXML.org/2011/}scores {}\n",
      "{http://orthoXML.org/2011/}groups {}\n",
      "1413\n"
     ]
    }
   ],
   "source": [
    "p_falciparum_ortho = []\n",
    "for species in p_falciparum:\n",
    "    print(species.tag, species.attrib)\n",
    "    if  ( (species.tag == '{http://orthoXML.org/2011/}species')\n",
    "    and (species.attrib['name'] == 'Cryptosporidium parvum ') ):\n",
    "        for database in species:\n",
    "            #print(database.tag, database.attrib)\n",
    "            for genes in database:\n",
    "                #print('genes',genes.tag, genes.attrib)\n",
    "                for gene in genes:\n",
    "                    #print('genes',gene.tag, gene.attrib)\n",
    "                    if gene.tag =='{http://orthoXML.org/2011/}gene':\n",
    "                        #print(gene.tag, gene.attrib['geneId'])\n",
    "                        p_falciparum_ortho.append(gene.attrib['geneId'])\n",
    "\n",
    "print(len(p_falciparum_ortho))\n",
    "p_falciparum_ortho[0:5]\n",
    "p_falciparum_ortho = set(p_falciparum_ortho)"
   ]
  },
  {
   "cell_type": "code",
   "execution_count": 40,
   "metadata": {},
   "outputs": [
    {
     "name": "stdout",
     "output_type": "stream",
     "text": [
      "{http://orthoXML.org/2011/}notes {}\n",
      "{http://orthoXML.org/2011/}species {'name': 'Cryptosporidium parvum ', 'NCBITaxId': '353152'}\n",
      "{http://orthoXML.org/2011/}species {'name': 'Neospora caninum ', 'NCBITaxId': '572307'}\n",
      "{http://orthoXML.org/2011/}scores {}\n",
      "{http://orthoXML.org/2011/}groups {}\n",
      "1403\n"
     ]
    }
   ],
   "source": [
    "n_caninum_ortho = []\n",
    "for species in n_caninum:\n",
    "    print(species.tag, species.attrib)\n",
    "    if  ( (species.tag == '{http://orthoXML.org/2011/}species')\n",
    "    and (species.attrib['name'] == 'Cryptosporidium parvum ') ):\n",
    "        for database in species:\n",
    "            #print(database.tag, database.attrib)\n",
    "            for genes in database:\n",
    "                #print('genes',genes.tag, genes.attrib)\n",
    "                for gene in genes:\n",
    "                    #print('genes',gene.tag, gene.attrib)\n",
    "                    if gene.tag =='{http://orthoXML.org/2011/}gene':\n",
    "                        #print(gene.tag, gene.attrib['geneId'])\n",
    "                        n_caninum_ortho.append(gene.attrib['geneId'])\n",
    "\n",
    "print(len(n_caninum_ortho))\n",
    "n_caninum_ortho[0:5]\n",
    "n_caninum_ortho = set(n_caninum_ortho)"
   ]
  },
  {
   "cell_type": "code",
   "execution_count": 41,
   "metadata": {},
   "outputs": [],
   "source": [
    "final['t_gondii_ortho'] = [True if n.replace('-RA-p1','') \n",
    "                           in t_gondii_ortho else False for n in final.index.values]\n",
    "final['p_falciparum_ortho'] = [True if n.replace('-RA-p1','')\n",
    "                               in p_falciparum_ortho else False for n in final.index.values]\n",
    "final['n_caninum_ortho'] = [True if n.replace('-RA-p1','')\n",
    "                               in n_caninum_ortho else False for n in final.index.values]"
   ]
  },
  {
   "cell_type": "code",
   "execution_count": 42,
   "metadata": {},
   "outputs": [
    {
     "data": {
      "text/plain": [
       "False    857\n",
       "True     802\n",
       "Name: t_gondii_ortho, dtype: int64"
      ]
     },
     "execution_count": 42,
     "metadata": {},
     "output_type": "execute_result"
    }
   ],
   "source": [
    "final['t_gondii_ortho'].value_counts()"
   ]
  },
  {
   "cell_type": "code",
   "execution_count": 43,
   "metadata": {},
   "outputs": [
    {
     "data": {
      "text/plain": [
       "False    865\n",
       "True     794\n",
       "Name: p_falciparum_ortho, dtype: int64"
      ]
     },
     "execution_count": 43,
     "metadata": {},
     "output_type": "execute_result"
    }
   ],
   "source": [
    "final['p_falciparum_ortho'].value_counts()"
   ]
  },
  {
   "cell_type": "code",
   "execution_count": 44,
   "metadata": {},
   "outputs": [
    {
     "data": {
      "text/plain": [
       "True     836\n",
       "False    823\n",
       "Name: n_caninum_ortho, dtype: int64"
      ]
     },
     "execution_count": 44,
     "metadata": {},
     "output_type": "execute_result"
    }
   ],
   "source": [
    "final['n_caninum_ortho'].value_counts()"
   ]
  },
  {
   "cell_type": "code",
   "execution_count": 45,
   "metadata": {},
   "outputs": [
    {
     "data": {
      "text/html": [
       "<div>\n",
       "<style scoped>\n",
       "    .dataframe tbody tr th:only-of-type {\n",
       "        vertical-align: middle;\n",
       "    }\n",
       "\n",
       "    .dataframe tbody tr th {\n",
       "        vertical-align: top;\n",
       "    }\n",
       "\n",
       "    .dataframe thead th {\n",
       "        text-align: right;\n",
       "    }\n",
       "</style>\n",
       "<table border=\"1\" class=\"dataframe\">\n",
       "  <thead>\n",
       "    <tr style=\"text-align: right;\">\n",
       "      <th></th>\n",
       "      <th>desc</th>\n",
       "      <th>srank</th>\n",
       "    </tr>\n",
       "  </thead>\n",
       "  <tbody>\n",
       "    <tr>\n",
       "      <th>cgd7_5150-RA-p1</th>\n",
       "      <td>Chitin-binding type-2 domain containing protein</td>\n",
       "      <td>67.279057</td>\n",
       "    </tr>\n",
       "    <tr>\n",
       "      <th>cgd6_4840-RA-p1</th>\n",
       "      <td>Serine protease, subtilase family, signal peptide</td>\n",
       "      <td>65.097189</td>\n",
       "    </tr>\n",
       "    <tr>\n",
       "      <th>cgd4_3090-RA-p1</th>\n",
       "      <td>Oocyst wall protein 6</td>\n",
       "      <td>56.644123</td>\n",
       "    </tr>\n",
       "    <tr>\n",
       "      <th>cgd7_4560-RA-p1</th>\n",
       "      <td>Sushi/SCR/CCP/SbsA/lg-like domain containing p...</td>\n",
       "      <td>53.858537</td>\n",
       "    </tr>\n",
       "    <tr>\n",
       "      <th>cgd7_850-RA-p1</th>\n",
       "      <td>Patched family protein/Sterol-sensing domain-c...</td>\n",
       "      <td>52.503351</td>\n",
       "    </tr>\n",
       "    <tr>\n",
       "      <th>cgd2_2510-RA-p1</th>\n",
       "      <td>Glucose-methanol-choline oxidoreductase</td>\n",
       "      <td>34.095415</td>\n",
       "    </tr>\n",
       "    <tr>\n",
       "      <th>cgd4_500-RA-p1</th>\n",
       "      <td>Oocyst wall protein 7</td>\n",
       "      <td>19.737609</td>\n",
       "    </tr>\n",
       "    <tr>\n",
       "      <th>cgd4_3550-RA-p1</th>\n",
       "      <td>Secreted Kazal domain-containing protein</td>\n",
       "      <td>11.857639</td>\n",
       "    </tr>\n",
       "    <tr>\n",
       "      <th>cgd5_3420-RA-p1</th>\n",
       "      <td>TSP1/LNR (Lin-12/Notch) repeat containing protein</td>\n",
       "      <td>11.149744</td>\n",
       "    </tr>\n",
       "    <tr>\n",
       "      <th>cgd3_3430-RA-p1</th>\n",
       "      <td>Amine oxidase</td>\n",
       "      <td>8.824921</td>\n",
       "    </tr>\n",
       "    <tr>\n",
       "      <th>cgd1_3690-RA-p1</th>\n",
       "      <td>Aspartyl (Acid) protease</td>\n",
       "      <td>6.713669</td>\n",
       "    </tr>\n",
       "    <tr>\n",
       "      <th>cgd7_400-RA-p1</th>\n",
       "      <td>Uncharacterized protein</td>\n",
       "      <td>5.734593</td>\n",
       "    </tr>\n",
       "    <tr>\n",
       "      <th>cgd7_3500-RA-p1</th>\n",
       "      <td>Leo1-like protein</td>\n",
       "      <td>5.301898</td>\n",
       "    </tr>\n",
       "  </tbody>\n",
       "</table>\n",
       "</div>"
      ],
      "text/plain": [
       "                                                              desc      srank\n",
       "cgd7_5150-RA-p1    Chitin-binding type-2 domain containing protein  67.279057\n",
       "cgd6_4840-RA-p1  Serine protease, subtilase family, signal peptide  65.097189\n",
       "cgd4_3090-RA-p1                              Oocyst wall protein 6  56.644123\n",
       "cgd7_4560-RA-p1  Sushi/SCR/CCP/SbsA/lg-like domain containing p...  53.858537\n",
       "cgd7_850-RA-p1   Patched family protein/Sterol-sensing domain-c...  52.503351\n",
       "cgd2_2510-RA-p1            Glucose-methanol-choline oxidoreductase  34.095415\n",
       "cgd4_500-RA-p1                               Oocyst wall protein 7  19.737609\n",
       "cgd4_3550-RA-p1           Secreted Kazal domain-containing protein  11.857639\n",
       "cgd5_3420-RA-p1  TSP1/LNR (Lin-12/Notch) repeat containing protein  11.149744\n",
       "cgd3_3430-RA-p1                                      Amine oxidase   8.824921\n",
       "cgd1_3690-RA-p1                           Aspartyl (Acid) protease   6.713669\n",
       "cgd7_400-RA-p1                             Uncharacterized protein   5.734593\n",
       "cgd7_3500-RA-p1                                  Leo1-like protein   5.301898"
      ]
     },
     "execution_count": 45,
     "metadata": {},
     "output_type": "execute_result"
    }
   ],
   "source": [
    "selection = final[(final['srank']>5) & final['t_gondii_ortho'] & ~final['p_falciparum_ortho']]\n",
    "selection[['desc','srank']]"
   ]
  },
  {
   "cell_type": "code",
   "execution_count": 46,
   "metadata": {},
   "outputs": [],
   "source": [
    "selection = final[(final['srank']>5) \n",
    "                  & (final['t_gondii_ortho'] | final['n_caninum_ortho']) \n",
    "                  & ~final['p_falciparum_ortho']]\n",
    "selection[['desc','srank',\n",
    "           't_gondii_ortho','n_caninum_ortho','p_falciparum_ortho',\n",
    "          'SP(Sec/SPI)','TM']].to_csv('../out_data/ortho_analysis.csv')"
   ]
  },
  {
   "cell_type": "markdown",
   "metadata": {},
   "source": [
    "## Save dataset and nootebook"
   ]
  },
  {
   "cell_type": "code",
   "execution_count": 47,
   "metadata": {},
   "outputs": [],
   "source": [
    "#save finala dataset\n",
    "final.to_csv('../out_data/final_df.csv')"
   ]
  },
  {
   "cell_type": "code",
   "execution_count": 124,
   "metadata": {},
   "outputs": [
    {
     "name": "stdout",
     "output_type": "stream",
     "text": [
      "[NbConvertApp] Converting notebook analysis.ipynb to html_toc\n",
      "[NbConvertApp] Support files will be in analysis_files/\n",
      "[NbConvertApp] Making directory analysis_files\n",
      "[NbConvertApp] Making directory analysis_files\n",
      "[NbConvertApp] Making directory analysis_files\n",
      "[NbConvertApp] Making directory analysis_files\n",
      "[NbConvertApp] Making directory analysis_files\n",
      "[NbConvertApp] Making directory analysis_files\n",
      "[NbConvertApp] Making directory analysis_files\n",
      "[NbConvertApp] Making directory analysis_files\n",
      "[NbConvertApp] Making directory analysis_files\n",
      "[NbConvertApp] Making directory analysis_files\n",
      "[NbConvertApp] Making directory analysis_files\n",
      "[NbConvertApp] Making directory analysis_files\n",
      "[NbConvertApp] Making directory analysis_files\n",
      "[NbConvertApp] Writing 489045 bytes to analysis.html\n"
     ]
    }
   ],
   "source": [
    "!jupyter nbconvert --to html_toc analysis.ipynb"
   ]
  },
  {
   "cell_type": "code",
   "execution_count": null,
   "metadata": {},
   "outputs": [],
   "source": []
  }
 ],
 "metadata": {
  "hide_input": false,
  "kernelspec": {
   "display_name": "Python 3",
   "language": "python",
   "name": "python3"
  },
  "language_info": {
   "codemirror_mode": {
    "name": "ipython",
    "version": 3
   },
   "file_extension": ".py",
   "mimetype": "text/x-python",
   "name": "python",
   "nbconvert_exporter": "python",
   "pygments_lexer": "ipython3",
   "version": "3.8.2"
  },
  "toc": {
   "base_numbering": 1,
   "nav_menu": {},
   "number_sections": true,
   "sideBar": true,
   "skip_h1_title": false,
   "title_cell": "Table of Contents",
   "title_sidebar": "Contents",
   "toc_cell": false,
   "toc_position": {
    "height": "calc(100% - 180px)",
    "left": "10px",
    "top": "150px",
    "width": "252.333px"
   },
   "toc_section_display": true,
   "toc_window_display": true
  }
 },
 "nbformat": 4,
 "nbformat_minor": 2
}
